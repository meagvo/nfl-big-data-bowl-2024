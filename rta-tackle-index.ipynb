{
 "cells": [
  {
   "cell_type": "markdown",
   "id": "3b48b9d3",
   "metadata": {
    "papermill": {
     "duration": 0.023141,
     "end_time": "2023-12-15T21:33:33.521896",
     "exception": false,
     "start_time": "2023-12-15T21:33:33.498755",
     "status": "completed"
    },
    "tags": []
   },
   "source": [
    "<center><span style=\"font-size:36px;\">  🏈Raw Tackle Ability and Tackle Index🏈</span> </center>"
   ]
  },
  {
   "cell_type": "markdown",
   "id": "06bbad5d",
   "metadata": {
    "papermill": {
     "duration": 0.02284,
     "end_time": "2023-12-15T21:33:33.567106",
     "exception": false,
     "start_time": "2023-12-15T21:33:33.544266",
     "status": "completed"
    },
    "tags": []
   },
   "source": [
    "***"
   ]
  },
  {
   "cell_type": "markdown",
   "id": "09dcabf3",
   "metadata": {
    "papermill": {
     "duration": 0.02164,
     "end_time": "2023-12-15T21:33:33.611158",
     "exception": false,
     "start_time": "2023-12-15T21:33:33.589518",
     "status": "completed"
    },
    "tags": []
   },
   "source": [
    "### <font color='289C4E'  align>Table of contents<font><a class='anchor' id='top'></a>\n",
    "- [Import Data](#1)\n",
    "- [Standardize Directional Data](#2)\n",
    "- [Merge the Data](#3)\n",
    "- [Create summary of game](#4)\n",
    "- [Exploratory Data Analysis](#5)\n",
    "- [Modeling](#6)\n",
    "- [Explaining the Model](#7)\n",
    "- [Stats by Tackler](#8)\n",
    "- [NFL Use Cases](#9)\n",
    "- [GIF/Animation](#10) \n"
   ]
  },
  {
   "cell_type": "markdown",
   "id": "e434e998",
   "metadata": {
    "papermill": {
     "duration": 0.022141,
     "end_time": "2023-12-15T21:33:33.655599",
     "exception": false,
     "start_time": "2023-12-15T21:33:33.633458",
     "status": "completed"
    },
    "tags": []
   },
   "source": [
    "***"
   ]
  },
  {
   "cell_type": "markdown",
   "id": "52a17b0b",
   "metadata": {
    "papermill": {
     "duration": 0.076367,
     "end_time": "2023-12-15T21:33:33.753792",
     "exception": false,
     "start_time": "2023-12-15T21:33:33.677425",
     "status": "completed"
    },
    "tags": []
   },
   "source": [
    "## Introduction"
   ]
  },
  {
   "cell_type": "markdown",
   "id": "9e6cbbf0",
   "metadata": {
    "papermill": {
     "duration": 0.021765,
     "end_time": "2023-12-15T21:33:33.797464",
     "exception": false,
     "start_time": "2023-12-15T21:33:33.775699",
     "status": "completed"
    },
    "tags": []
   },
   "source": [
    "At a basic level, tackling is crucial to the game of football in several ways:\n",
    " - **Preventing yards gained:** Defensive tackling is a key way to prevent the offensive team from gaining additiongl yardage. When executed at the right moment, a successful tackle can put the opposing team in unfavorable conditions.\n",
    " - **Preventing scoring:** When every point counts, a successful tackle can make the difference between winning and losing a game. By preventing a player from reaching the end zone and forcing the opposing team to attempt field goals, tacklers limit points scored.\n",
    " - **Creating turnovers:** If a defender can tackle effectively and lead to a forced fumble, their own team can gain posession of the ball and get the chance to score more points.\n",
    " \n",
    " "
   ]
  },
  {
   "cell_type": "markdown",
   "id": "a30ce6f6",
   "metadata": {
    "papermill": {
     "duration": 0.021555,
     "end_time": "2023-12-15T21:33:33.840918",
     "exception": false,
     "start_time": "2023-12-15T21:33:33.819363",
     "status": "completed"
    },
    "tags": []
   },
   "source": [
    "### Project Goal:\n",
    "Our goal is to analyze historical tracking data and extract meaningful features to predict when a tackle attempt will be successful. We will then apply the model to players and determine their \"Raw Tackle Ability\", which we define as \"the probability that a player will make a successful tackle based on their previous behavior.\"\n",
    "\n",
    "We also introduce the \"Tackle Index\", which allows us to rank players based on their current track record related to tackling in addition to their Raw Tackle Ability (RTA). This accounts for consistent performance and number of games played."
   ]
  },
  {
   "cell_type": "markdown",
   "id": "69268c70",
   "metadata": {
    "papermill": {
     "duration": 0.021402,
     "end_time": "2023-12-15T21:33:33.883870",
     "exception": false,
     "start_time": "2023-12-15T21:33:33.862468",
     "status": "completed"
    },
    "tags": []
   },
   "source": [
    "***"
   ]
  },
  {
   "cell_type": "markdown",
   "id": "77a12993",
   "metadata": {},
   "source": []
  },
  {
   "cell_type": "markdown",
   "id": "a5763318",
   "metadata": {
    "papermill": {
     "duration": 0.021347,
     "end_time": "2023-12-15T21:33:33.926757",
     "exception": false,
     "start_time": "2023-12-15T21:33:33.905410",
     "status": "completed"
    },
    "tags": []
   },
   "source": [
    "# 1. Import Data <a class=\"anchor\"  id=\"1\"></a>"
   ]
  },
  {
   "cell_type": "markdown",
   "id": "bd90d183",
   "metadata": {
    "papermill": {
     "duration": 0.021603,
     "end_time": "2023-12-15T21:33:33.970415",
     "exception": false,
     "start_time": "2023-12-15T21:33:33.948812",
     "status": "completed"
    },
    "tags": []
   },
   "source": [
    "The first thing I'm going to do is read all of the data. For the tracking data, I'm going to concatenate the dataframes so that there is one comprehensive dataframe with all of the tracking info."
   ]
  },
  {
   "cell_type": "code",
   "execution_count": 1,
   "id": "ca57122e",
   "metadata": {
    "_kg_hide-input": true,
    "execution": {
     "iopub.execute_input": "2023-12-15T21:33:34.016480Z",
     "iopub.status.busy": "2023-12-15T21:33:34.015871Z",
     "iopub.status.idle": "2023-12-15T21:34:23.996292Z",
     "shell.execute_reply": "2023-12-15T21:34:23.995128Z"
    },
    "papermill": {
     "duration": 50.007226,
     "end_time": "2023-12-15T21:34:23.999449",
     "exception": false,
     "start_time": "2023-12-15T21:33:33.992223",
     "status": "completed"
    },
    "tags": []
   },
   "outputs": [
    {
     "data": {
      "text/plain": [
       "\"df_games=pd.read_csv('/kaggle/input/nfl-big-data-bowl-2024/games.csv')\\ndf_players=pd.read_csv('/kaggle/input/nfl-big-data-bowl-2024/players.csv')\\ndf_plays=pd.read_csv('/kaggle/input/nfl-big-data-bowl-2024/plays.csv')\\ndf_tackles=pd.read_csv('/kaggle/input/nfl-big-data-bowl-2024/tackles.csv')\\nfiles=[]\\nfor i in range(1,10):\\n    file='/kaggle/input/nfl-big-data-bowl-2024/tracking_week_'+str(i)+'.csv'\\n    files.append(pd.read_csv(file))\\n    df_tracking=pd.concat(files) \\n\""
      ]
     },
     "execution_count": 1,
     "metadata": {},
     "output_type": "execute_result"
    }
   ],
   "source": [
    "import warnings\n",
    "#!pip install eli5\n",
    "warnings.filterwarnings(\"ignore\")\n",
    "import pandas as pd\n",
    "import numpy as np\n",
    "\n",
    "import pandas as pd\n",
    "import numpy as np\n",
    "\"\"\"df_games=pd.read_csv('/kaggle/input/nfl-big-data-bowl-2024/games.csv')\n",
    "df_players=pd.read_csv('/kaggle/input/nfl-big-data-bowl-2024/players.csv')\n",
    "df_plays=pd.read_csv('/kaggle/input/nfl-big-data-bowl-2024/plays.csv')\n",
    "df_tackles=pd.read_csv('/kaggle/input/nfl-big-data-bowl-2024/tackles.csv')\n",
    "files=[]\n",
    "for i in range(1,10):\n",
    "    file='/kaggle/input/nfl-big-data-bowl-2024/tracking_week_'+str(i)+'.csv'\n",
    "    files.append(pd.read_csv(file))\n",
    "    df_tracking=pd.concat(files) \n",
    "\"\"\"\n"
   ]
  },
  {
   "cell_type": "code",
   "execution_count": 2,
   "id": "f9f77667",
   "metadata": {
    "execution": {
     "iopub.execute_input": "2023-12-15T21:34:24.045534Z",
     "iopub.status.busy": "2023-12-15T21:34:24.045138Z",
     "iopub.status.idle": "2023-12-15T21:34:24.052532Z",
     "shell.execute_reply": "2023-12-15T21:34:24.051586Z"
    },
    "papermill": {
     "duration": 0.032817,
     "end_time": "2023-12-15T21:34:24.054563",
     "exception": false,
     "start_time": "2023-12-15T21:34:24.021746",
     "status": "completed"
    },
    "tags": []
   },
   "outputs": [
    {
     "ename": "ParserError",
     "evalue": "Error tokenizing data. C error: Calling read(nbytes) on source failed. Try engine='python'.",
     "output_type": "error",
     "traceback": [
      "\u001b[1;31m---------------------------------------------------------------------------\u001b[0m",
      "\u001b[1;31mParserError\u001b[0m                               Traceback (most recent call last)",
      "Cell \u001b[1;32mIn[2], line 8\u001b[0m\n\u001b[0;32m      6\u001b[0m \u001b[38;5;28;01mfor\u001b[39;00m i \u001b[38;5;129;01min\u001b[39;00m \u001b[38;5;28mrange\u001b[39m(\u001b[38;5;241m1\u001b[39m,\u001b[38;5;241m10\u001b[39m):\n\u001b[0;32m      7\u001b[0m     file\u001b[38;5;241m=\u001b[39m\u001b[38;5;124m'\u001b[39m\u001b[38;5;124mtracking_week_\u001b[39m\u001b[38;5;124m'\u001b[39m\u001b[38;5;241m+\u001b[39m\u001b[38;5;28mstr\u001b[39m(i)\u001b[38;5;241m+\u001b[39m\u001b[38;5;124m'\u001b[39m\u001b[38;5;124m.csv\u001b[39m\u001b[38;5;124m'\u001b[39m\n\u001b[1;32m----> 8\u001b[0m     files\u001b[38;5;241m.\u001b[39mappend(\u001b[43mpd\u001b[49m\u001b[38;5;241;43m.\u001b[39;49m\u001b[43mread_csv\u001b[49m\u001b[43m(\u001b[49m\u001b[43mfile\u001b[49m\u001b[43m)\u001b[49m)\n\u001b[0;32m      9\u001b[0m     df_tracking\u001b[38;5;241m=\u001b[39mpd\u001b[38;5;241m.\u001b[39mconcat(files)\n",
      "File \u001b[1;32m~\\AppData\\Roaming\\Python\\Python310\\site-packages\\pandas\\util\\_decorators.py:211\u001b[0m, in \u001b[0;36mdeprecate_kwarg.<locals>._deprecate_kwarg.<locals>.wrapper\u001b[1;34m(*args, **kwargs)\u001b[0m\n\u001b[0;32m    209\u001b[0m     \u001b[38;5;28;01melse\u001b[39;00m:\n\u001b[0;32m    210\u001b[0m         kwargs[new_arg_name] \u001b[38;5;241m=\u001b[39m new_arg_value\n\u001b[1;32m--> 211\u001b[0m \u001b[38;5;28;01mreturn\u001b[39;00m func(\u001b[38;5;241m*\u001b[39margs, \u001b[38;5;241m*\u001b[39m\u001b[38;5;241m*\u001b[39mkwargs)\n",
      "File \u001b[1;32m~\\AppData\\Roaming\\Python\\Python310\\site-packages\\pandas\\util\\_decorators.py:331\u001b[0m, in \u001b[0;36mdeprecate_nonkeyword_arguments.<locals>.decorate.<locals>.wrapper\u001b[1;34m(*args, **kwargs)\u001b[0m\n\u001b[0;32m    325\u001b[0m \u001b[38;5;28;01mif\u001b[39;00m \u001b[38;5;28mlen\u001b[39m(args) \u001b[38;5;241m>\u001b[39m num_allow_args:\n\u001b[0;32m    326\u001b[0m     warnings\u001b[38;5;241m.\u001b[39mwarn(\n\u001b[0;32m    327\u001b[0m         msg\u001b[38;5;241m.\u001b[39mformat(arguments\u001b[38;5;241m=\u001b[39m_format_argument_list(allow_args)),\n\u001b[0;32m    328\u001b[0m         \u001b[38;5;167;01mFutureWarning\u001b[39;00m,\n\u001b[0;32m    329\u001b[0m         stacklevel\u001b[38;5;241m=\u001b[39mfind_stack_level(),\n\u001b[0;32m    330\u001b[0m     )\n\u001b[1;32m--> 331\u001b[0m \u001b[38;5;28;01mreturn\u001b[39;00m func(\u001b[38;5;241m*\u001b[39margs, \u001b[38;5;241m*\u001b[39m\u001b[38;5;241m*\u001b[39mkwargs)\n",
      "File \u001b[1;32m~\\AppData\\Roaming\\Python\\Python310\\site-packages\\pandas\\io\\parsers\\readers.py:950\u001b[0m, in \u001b[0;36mread_csv\u001b[1;34m(filepath_or_buffer, sep, delimiter, header, names, index_col, usecols, squeeze, prefix, mangle_dupe_cols, dtype, engine, converters, true_values, false_values, skipinitialspace, skiprows, skipfooter, nrows, na_values, keep_default_na, na_filter, verbose, skip_blank_lines, parse_dates, infer_datetime_format, keep_date_col, date_parser, dayfirst, cache_dates, iterator, chunksize, compression, thousands, decimal, lineterminator, quotechar, quoting, doublequote, escapechar, comment, encoding, encoding_errors, dialect, error_bad_lines, warn_bad_lines, on_bad_lines, delim_whitespace, low_memory, memory_map, float_precision, storage_options)\u001b[0m\n\u001b[0;32m    935\u001b[0m kwds_defaults \u001b[38;5;241m=\u001b[39m _refine_defaults_read(\n\u001b[0;32m    936\u001b[0m     dialect,\n\u001b[0;32m    937\u001b[0m     delimiter,\n\u001b[1;32m   (...)\u001b[0m\n\u001b[0;32m    946\u001b[0m     defaults\u001b[38;5;241m=\u001b[39m{\u001b[38;5;124m\"\u001b[39m\u001b[38;5;124mdelimiter\u001b[39m\u001b[38;5;124m\"\u001b[39m: \u001b[38;5;124m\"\u001b[39m\u001b[38;5;124m,\u001b[39m\u001b[38;5;124m\"\u001b[39m},\n\u001b[0;32m    947\u001b[0m )\n\u001b[0;32m    948\u001b[0m kwds\u001b[38;5;241m.\u001b[39mupdate(kwds_defaults)\n\u001b[1;32m--> 950\u001b[0m \u001b[38;5;28;01mreturn\u001b[39;00m \u001b[43m_read\u001b[49m\u001b[43m(\u001b[49m\u001b[43mfilepath_or_buffer\u001b[49m\u001b[43m,\u001b[49m\u001b[43m \u001b[49m\u001b[43mkwds\u001b[49m\u001b[43m)\u001b[49m\n",
      "File \u001b[1;32m~\\AppData\\Roaming\\Python\\Python310\\site-packages\\pandas\\io\\parsers\\readers.py:611\u001b[0m, in \u001b[0;36m_read\u001b[1;34m(filepath_or_buffer, kwds)\u001b[0m\n\u001b[0;32m    608\u001b[0m     \u001b[38;5;28;01mreturn\u001b[39;00m parser\n\u001b[0;32m    610\u001b[0m \u001b[38;5;28;01mwith\u001b[39;00m parser:\n\u001b[1;32m--> 611\u001b[0m     \u001b[38;5;28;01mreturn\u001b[39;00m \u001b[43mparser\u001b[49m\u001b[38;5;241;43m.\u001b[39;49m\u001b[43mread\u001b[49m\u001b[43m(\u001b[49m\u001b[43mnrows\u001b[49m\u001b[43m)\u001b[49m\n",
      "File \u001b[1;32m~\\AppData\\Roaming\\Python\\Python310\\site-packages\\pandas\\io\\parsers\\readers.py:1778\u001b[0m, in \u001b[0;36mTextFileReader.read\u001b[1;34m(self, nrows)\u001b[0m\n\u001b[0;32m   1771\u001b[0m nrows \u001b[38;5;241m=\u001b[39m validate_integer(\u001b[38;5;124m\"\u001b[39m\u001b[38;5;124mnrows\u001b[39m\u001b[38;5;124m\"\u001b[39m, nrows)\n\u001b[0;32m   1772\u001b[0m \u001b[38;5;28;01mtry\u001b[39;00m:\n\u001b[0;32m   1773\u001b[0m     \u001b[38;5;66;03m# error: \"ParserBase\" has no attribute \"read\"\u001b[39;00m\n\u001b[0;32m   1774\u001b[0m     (\n\u001b[0;32m   1775\u001b[0m         index,\n\u001b[0;32m   1776\u001b[0m         columns,\n\u001b[0;32m   1777\u001b[0m         col_dict,\n\u001b[1;32m-> 1778\u001b[0m     ) \u001b[38;5;241m=\u001b[39m \u001b[38;5;28;43mself\u001b[39;49m\u001b[38;5;241;43m.\u001b[39;49m\u001b[43m_engine\u001b[49m\u001b[38;5;241;43m.\u001b[39;49m\u001b[43mread\u001b[49m\u001b[43m(\u001b[49m\u001b[43m  \u001b[49m\u001b[38;5;66;43;03m# type: ignore[attr-defined]\u001b[39;49;00m\n\u001b[0;32m   1779\u001b[0m \u001b[43m        \u001b[49m\u001b[43mnrows\u001b[49m\n\u001b[0;32m   1780\u001b[0m \u001b[43m    \u001b[49m\u001b[43m)\u001b[49m\n\u001b[0;32m   1781\u001b[0m \u001b[38;5;28;01mexcept\u001b[39;00m \u001b[38;5;167;01mException\u001b[39;00m:\n\u001b[0;32m   1782\u001b[0m     \u001b[38;5;28mself\u001b[39m\u001b[38;5;241m.\u001b[39mclose()\n",
      "File \u001b[1;32m~\\AppData\\Roaming\\Python\\Python310\\site-packages\\pandas\\io\\parsers\\c_parser_wrapper.py:230\u001b[0m, in \u001b[0;36mCParserWrapper.read\u001b[1;34m(self, nrows)\u001b[0m\n\u001b[0;32m    228\u001b[0m \u001b[38;5;28;01mtry\u001b[39;00m:\n\u001b[0;32m    229\u001b[0m     \u001b[38;5;28;01mif\u001b[39;00m \u001b[38;5;28mself\u001b[39m\u001b[38;5;241m.\u001b[39mlow_memory:\n\u001b[1;32m--> 230\u001b[0m         chunks \u001b[38;5;241m=\u001b[39m \u001b[38;5;28;43mself\u001b[39;49m\u001b[38;5;241;43m.\u001b[39;49m\u001b[43m_reader\u001b[49m\u001b[38;5;241;43m.\u001b[39;49m\u001b[43mread_low_memory\u001b[49m\u001b[43m(\u001b[49m\u001b[43mnrows\u001b[49m\u001b[43m)\u001b[49m\n\u001b[0;32m    231\u001b[0m         \u001b[38;5;66;03m# destructive to chunks\u001b[39;00m\n\u001b[0;32m    232\u001b[0m         data \u001b[38;5;241m=\u001b[39m _concatenate_chunks(chunks)\n",
      "File \u001b[1;32m~\\AppData\\Roaming\\Python\\Python310\\site-packages\\pandas\\_libs\\parsers.pyx:808\u001b[0m, in \u001b[0;36mpandas._libs.parsers.TextReader.read_low_memory\u001b[1;34m()\u001b[0m\n",
      "File \u001b[1;32m~\\AppData\\Roaming\\Python\\Python310\\site-packages\\pandas\\_libs\\parsers.pyx:866\u001b[0m, in \u001b[0;36mpandas._libs.parsers.TextReader._read_rows\u001b[1;34m()\u001b[0m\n",
      "File \u001b[1;32m~\\AppData\\Roaming\\Python\\Python310\\site-packages\\pandas\\_libs\\parsers.pyx:852\u001b[0m, in \u001b[0;36mpandas._libs.parsers.TextReader._tokenize_rows\u001b[1;34m()\u001b[0m\n",
      "File \u001b[1;32m~\\AppData\\Roaming\\Python\\Python310\\site-packages\\pandas\\_libs\\parsers.pyx:1973\u001b[0m, in \u001b[0;36mpandas._libs.parsers.raise_parser_error\u001b[1;34m()\u001b[0m\n",
      "\u001b[1;31mParserError\u001b[0m: Error tokenizing data. C error: Calling read(nbytes) on source failed. Try engine='python'."
     ]
    }
   ],
   "source": [
    "df_games=pd.read_csv('games.csv')\n",
    "df_players=pd.read_csv('players.csv')\n",
    "df_plays=pd.read_csv('plays.csv')\n",
    "df_tackles=pd.read_csv('tackles.csv')\n",
    "files=[]\n",
    "for i in range(1,10):\n",
    "    file='tracking_week_'+str(i)+'.csv'\n",
    "    files.append(pd.read_csv(file))\n",
    "    df_tracking=pd.concat(files)"
   ]
  },
  {
   "cell_type": "code",
   "execution_count": null,
   "id": "d645d79f",
   "metadata": {
    "execution": {
     "iopub.execute_input": "2023-12-15T21:34:24.100516Z",
     "iopub.status.busy": "2023-12-15T21:34:24.100124Z",
     "iopub.status.idle": "2023-12-15T21:34:24.140513Z",
     "shell.execute_reply": "2023-12-15T21:34:24.139474Z"
    },
    "papermill": {
     "duration": 0.065753,
     "end_time": "2023-12-15T21:34:24.142527",
     "exception": false,
     "start_time": "2023-12-15T21:34:24.076774",
     "status": "completed"
    },
    "tags": []
   },
   "outputs": [],
   "source": [
    "df_tackles.describe()"
   ]
  },
  {
   "cell_type": "markdown",
   "id": "83de6949",
   "metadata": {
    "papermill": {
     "duration": 0.022195,
     "end_time": "2023-12-15T21:34:24.187118",
     "exception": false,
     "start_time": "2023-12-15T21:34:24.164923",
     "status": "completed"
    },
    "tags": []
   },
   "source": [
    "# 2. Standardize Directional Data <a class=\"anchor\"  id=\"2\"></a>"
   ]
  },
  {
   "cell_type": "markdown",
   "id": "bc7bacc8",
   "metadata": {
    "papermill": {
     "duration": 0.02503,
     "end_time": "2023-12-15T21:34:24.234784",
     "exception": false,
     "start_time": "2023-12-15T21:34:24.209754",
     "status": "completed"
    },
    "tags": []
   },
   "source": [
    "I used this notebook to standardize all of my directional data: \n",
    "https://www.kaggle.com/code/colinlagator/make-all-plays-left-right "
   ]
  },
  {
   "cell_type": "code",
   "execution_count": null,
   "id": "d4c5197e",
   "metadata": {
    "_kg_hide-input": true,
    "execution": {
     "iopub.execute_input": "2023-12-15T21:34:24.281887Z",
     "iopub.status.busy": "2023-12-15T21:34:24.281500Z",
     "iopub.status.idle": "2023-12-15T21:34:24.286716Z",
     "shell.execute_reply": "2023-12-15T21:34:24.285546Z"
    },
    "papermill": {
     "duration": 0.03115,
     "end_time": "2023-12-15T21:34:24.288877",
     "exception": false,
     "start_time": "2023-12-15T21:34:24.257727",
     "status": "completed"
    },
    "tags": []
   },
   "outputs": [],
   "source": [
    "#change all plays to same direction\n",
    "def reverse_deg(deg):\n",
    "    if deg < 180:\n",
    "        return deg + 180\n",
    "    if deg >= 180:\n",
    "        return deg - 180\n"
   ]
  },
  {
   "cell_type": "code",
   "execution_count": null,
   "id": "962db5ba",
   "metadata": {
    "_kg_hide-input": true,
    "execution": {
     "iopub.execute_input": "2023-12-15T21:34:24.336283Z",
     "iopub.status.busy": "2023-12-15T21:34:24.335904Z",
     "iopub.status.idle": "2023-12-15T21:34:43.501681Z",
     "shell.execute_reply": "2023-12-15T21:34:43.500881Z"
    },
    "papermill": {
     "duration": 19.192495,
     "end_time": "2023-12-15T21:34:43.504020",
     "exception": false,
     "start_time": "2023-12-15T21:34:24.311525",
     "status": "completed"
    },
    "tags": []
   },
   "outputs": [],
   "source": [
    "df_tracking[\"o_standard\"]=np.where(df_tracking[\"playDirection\"] == \"left\", df_tracking[\"o\"].apply(reverse_deg), df_tracking[\"o\"])\n",
    "        \n",
    "df_tracking[\"dir_standard\"] = np.where(df_tracking[\"playDirection\"] == \"left\", df_tracking[\"dir\"].apply(reverse_deg), df_tracking[\"dir\"])\n",
    "        \n",
    "df_tracking[\"x_standard\"] = np.where(df_tracking[\"playDirection\"] == \"left\", df_tracking[\"x\"].apply(lambda x: 120 - x), df_tracking[\"x\"])\n",
    "        \n",
    "df_tracking[\"y_standard\"] =np.where(df_tracking[\"playDirection\"] == \"left\",  df_tracking[\"y\"].apply(lambda y: 160/3 - y), df_tracking[\"y\"])\n",
    "    "
   ]
  },
  {
   "cell_type": "code",
   "execution_count": null,
   "id": "3aab2fe1",
   "metadata": {
    "_kg_hide-input": true,
    "execution": {
     "iopub.execute_input": "2023-12-15T21:34:43.551057Z",
     "iopub.status.busy": "2023-12-15T21:34:43.550235Z",
     "iopub.status.idle": "2023-12-15T21:35:03.981221Z",
     "shell.execute_reply": "2023-12-15T21:35:03.980168Z"
    },
    "papermill": {
     "duration": 20.457305,
     "end_time": "2023-12-15T21:35:03.983853",
     "exception": false,
     "start_time": "2023-12-15T21:34:43.526548",
     "status": "completed"
    },
    "tags": []
   },
   "outputs": [],
   "source": [
    "def create_gameplayid(df):\n",
    "    df['gameplayid']=df['gameId'].astype(str)+df['playId'].astype(str)\n",
    "    return df\n",
    "\n",
    "def create_index(df):\n",
    "    df['index']=df['nflId'].astype(str)+df['gameplayid']\n",
    "    return df\n",
    "df_tracking=create_index(create_gameplayid(df_tracking))\n",
    "\n",
    "df_plays=create_gameplayid(df_plays)\n",
    "df_tackles=create_index(create_gameplayid(df_tackles))\n",
    "\n"
   ]
  },
  {
   "cell_type": "code",
   "execution_count": null,
   "id": "b152c335",
   "metadata": {
    "execution": {
     "iopub.execute_input": "2023-12-15T21:35:04.031621Z",
     "iopub.status.busy": "2023-12-15T21:35:04.031208Z",
     "iopub.status.idle": "2023-12-15T21:35:04.932535Z",
     "shell.execute_reply": "2023-12-15T21:35:04.931430Z"
    },
    "papermill": {
     "duration": 0.927918,
     "end_time": "2023-12-15T21:35:04.934888",
     "exception": false,
     "start_time": "2023-12-15T21:35:04.006970",
     "status": "completed"
    },
    "tags": []
   },
   "outputs": [],
   "source": [
    "print('Distinct plays in tracking data: ', df_tracking['gameplayid'].nunique())\n",
    "print('Distinct plays in play data: ', df_plays['gameplayid'].nunique())\n",
    "print('Distinct plays in tackles data: ', df_tackles['gameplayid'].nunique())"
   ]
  },
  {
   "cell_type": "code",
   "execution_count": null,
   "id": "b81d8b22",
   "metadata": {
    "papermill": {
     "duration": 0.022356,
     "end_time": "2023-12-15T21:35:04.979895",
     "exception": false,
     "start_time": "2023-12-15T21:35:04.957539",
     "status": "completed"
    },
    "tags": []
   },
   "outputs": [],
   "source": []
  },
  {
   "cell_type": "markdown",
   "id": "dc1bece6",
   "metadata": {
    "papermill": {
     "duration": 0.022028,
     "end_time": "2023-12-15T21:35:05.024812",
     "exception": false,
     "start_time": "2023-12-15T21:35:05.002784",
     "status": "completed"
    },
    "tags": []
   },
   "source": [
    "# 3. Merge the data <a class=\"anchor\"  id=\"3\"></a>"
   ]
  },
  {
   "cell_type": "code",
   "execution_count": null,
   "id": "68a5ab3c",
   "metadata": {
    "_kg_hide-input": true,
    "execution": {
     "iopub.execute_input": "2023-12-15T21:35:05.071177Z",
     "iopub.status.busy": "2023-12-15T21:35:05.070793Z",
     "iopub.status.idle": "2023-12-15T21:35:20.630640Z",
     "shell.execute_reply": "2023-12-15T21:35:20.629664Z"
    },
    "papermill": {
     "duration": 15.585809,
     "end_time": "2023-12-15T21:35:20.632919",
     "exception": false,
     "start_time": "2023-12-15T21:35:05.047110",
     "status": "completed"
    },
    "tags": []
   },
   "outputs": [],
   "source": [
    "def merge_clean_data(df_tracking, df_plays, df_tackles):\n",
    "    df_tracking_plays_final=pd.merge(pd.merge(df_tracking, df_plays, left_on=['gameplayid', 'gameId', 'playId'], right_on=['gameplayid', 'gameId', 'playId'], how='inner'), df_tackles, left_on=['gameplayid', 'gameId', 'playId', 'nflId'], right_on=['gameplayid', 'gameId', 'playId', 'nflId'], how='inner' )\n",
    "    df_tracking_plays_final['event']=np.where(df_tracking_plays_final['tackle']==1, 'tackle', np.where(df_tracking_plays_final['pff_missedTackle']==1, 'missed_tackle', (np.where(df_tracking_plays_final['assist']==1, 'assist', 'Other')) ))\n",
    "    df_tackles_final=pd.merge(df_tracking_plays_final, df_tackles, left_on=['gameplayid','gameId', 'playId', 'nflId', 'tackle', 'assist', 'pff_missedTackle'], right_on=['gameplayid','gameId', 'playId', 'nflId', 'tackle', 'assist', 'pff_missedTackle'], how='inner', suffixes=['_1', '_2'])\n",
    "    df_tackles_final=df_tackles_final[( (df_tackles_final['tackle']+df_tackles_final['assist']+df_tackles_final['pff_missedTackle']>=1)&(df_tackles_final['gameplayid'].isna()==False))]\n",
    "    df_tackles_final['index']=df_tackles_final['nflId'].astype(str)+df_tackles_final['gameplayid'].astype(str)\n",
    "    return df_tackles_final\n",
    "df_tackles_final=merge_clean_data(df_tracking, df_plays, df_tackles)"
   ]
  },
  {
   "cell_type": "code",
   "execution_count": null,
   "id": "b65aa4d9",
   "metadata": {
    "execution": {
     "iopub.execute_input": "2023-12-15T21:35:20.681084Z",
     "iopub.status.busy": "2023-12-15T21:35:20.680334Z",
     "iopub.status.idle": "2023-12-15T21:35:20.836823Z",
     "shell.execute_reply": "2023-12-15T21:35:20.835522Z"
    },
    "papermill": {
     "duration": 0.18523,
     "end_time": "2023-12-15T21:35:20.841248",
     "exception": false,
     "start_time": "2023-12-15T21:35:20.656018",
     "status": "completed"
    },
    "tags": []
   },
   "outputs": [],
   "source": [
    "\n",
    "print('Distinct plays in  final data: ', df_tackles_final['gameplayid'].nunique())\n",
    "print('Distinct frames in  final data: ', df_tackles_final['index'].nunique())"
   ]
  },
  {
   "cell_type": "code",
   "execution_count": null,
   "id": "370f3fbd",
   "metadata": {
    "_kg_hide-input": true,
    "execution": {
     "iopub.execute_input": "2023-12-15T21:35:20.894603Z",
     "iopub.status.busy": "2023-12-15T21:35:20.893439Z",
     "iopub.status.idle": "2023-12-15T21:35:34.840341Z",
     "shell.execute_reply": "2023-12-15T21:35:34.839059Z"
    },
    "papermill": {
     "duration": 13.974346,
     "end_time": "2023-12-15T21:35:34.842941",
     "exception": false,
     "start_time": "2023-12-15T21:35:20.868595",
     "status": "completed"
    },
    "tags": []
   },
   "outputs": [],
   "source": [
    "def ballcarrier_df(df_players):\n",
    "    df_ballcarrier_players=df_players.copy()\n",
    "    df_ballcarrier_players.columns=['nflId_ballcarrier', 'ballCarrierHeight', 'ballCarrierWeight', 'ballcarrierDOB', 'ballcarrierCollege', 'ballcarrierPosition', 'ballCarrierDisplayName']\n",
    "    \n",
    "    df_tracking_ballcarrier=df_tracking[['gameplayid', 'frameId','nflId', 'x', 'y', 's', 'a', 'dis',\n",
    "       'o', 'dir', 'event', 'o_standard', 'dir_standard', 'x_standard',\n",
    "       'y_standard']]\n",
    "    df_ballcarrier=pd.merge(df_tracking_ballcarrier, df_ballcarrier_players, left_on='nflId', right_on='nflId_ballcarrier')\n",
    "    df_ballcarrier=df_ballcarrier[['gameplayid', 'frameId',  'x', 'y', 's', 'a', 'dis', 'o',\n",
    "       'dir', 'event', 'o_standard', 'dir_standard', 'x_standard',\n",
    "       'y_standard', 'nflId_ballcarrier', 'ballCarrierHeight',\n",
    "       'ballCarrierWeight', 'ballcarrierDOB', 'ballcarrierCollege',\n",
    "       'ballcarrierPosition', 'ballCarrierDisplayName']]\n",
    "    df_ballcarrier.columns=['gameplayid', 'frameId',  'x_ballcarrier', 'y_ballcarrier', 's_ballcarrier',\n",
    "                        'a_ballcarrier', 'dis_ballcarrier', 'o_ballcarrier',\n",
    "       'dir_ball_carrier', 'event_ballcarrier', 'o_standard_ballcarrier', 'dir_standard_ballcarrier', 'x_standard_ballcarrier',\n",
    "       'y_standard_ballcarrier','nflId_ballcarrier', 'ballCarrierHeight',\n",
    "       'ballCarrierWeight', 'ballcarrierDOB', 'ballcarrierCollege',\n",
    "       'ballcarrierPosition', 'ballCarrierDisplayName']\n",
    "    return df_ballcarrier\n",
    "    \n",
    "df_ballcarrier=ballcarrier_df(df_players)\n",
    "df_ballcarrier.head()"
   ]
  },
  {
   "cell_type": "code",
   "execution_count": null,
   "id": "578670d9",
   "metadata": {
    "_kg_hide-input": true,
    "execution": {
     "iopub.execute_input": "2023-12-15T21:35:34.952652Z",
     "iopub.status.busy": "2023-12-15T21:35:34.949740Z",
     "iopub.status.idle": "2023-12-15T21:35:48.376870Z",
     "shell.execute_reply": "2023-12-15T21:35:48.375966Z"
    },
    "papermill": {
     "duration": 13.508319,
     "end_time": "2023-12-15T21:35:48.379641",
     "exception": false,
     "start_time": "2023-12-15T21:35:34.871322",
     "status": "completed"
    },
    "tags": []
   },
   "outputs": [],
   "source": [
    "def full_merge(df_tackles_final):\n",
    "    df_players_tackler=df_players.copy()\n",
    "    df_players_tackler.columns=['nflId_tackler', 'tacklerHeight', 'tacklerWeight', 'tacklerDOB', 'tacklerCollege', 'tacklerPosition', 'tacklerDisplayName']\n",
    "    df_tackles_final=pd.merge(df_tackles_final, df_players_tackler, left_on='nflId', right_on='nflId_tackler')\n",
    "    df_full=pd.merge(df_tackles_final, df_ballcarrier, left_on=['gameplayid','ballCarrierDisplayName','frameId'], right_on=['gameplayid', 'ballCarrierDisplayName','frameId'])\n",
    "    df_full.rename(columns={'nflId':'nflId_tackler', 'x':'x_tackler','y': 'y_tackler', 's':'s_tackler', 'a':'a_tackler', 'dis':'dis_tackler',\n",
    "       'o':'o_tackler', 'dir':'dir_tackler', 'event':'event_tackler', 'o_standard':'o_standard_tackler',\n",
    "       'dir_standard':'dir_standard_tackler', 'x_standard':'x_standard_tackler', 'y_standard':'y_standard_tackler'}, inplace=True)\n",
    "    return df_full\n",
    "df_full=full_merge(df_tackles_final)"
   ]
  },
  {
   "cell_type": "markdown",
   "id": "cbe2fa23",
   "metadata": {
    "papermill": {
     "duration": 0.023215,
     "end_time": "2023-12-15T21:35:48.426539",
     "exception": false,
     "start_time": "2023-12-15T21:35:48.403324",
     "status": "completed"
    },
    "tags": []
   },
   "source": [
    "## Key Metrics from Physics\n",
    "We decided to borrow a few concepts from basic physics to calculate additional metrics for the players (tackler and ball carrier). \n",
    " - Force = Mass x Acceleration\n",
    " - Momentum = Mass x Speed\n",
    " - Relative velocity\n",
    " \n",
    " # Relative Velocity and the Coefficient of Restitution: \n",
    "- In physics, there are two types of collisions: elastic and inelastic. An elastic collision results in objects moving apart at the same rate at which they collided. On the other hand, an inelastic collision results in objects staying stuck together. According to [The University of Arkansas ](https://phys.libretexts.org/Courses/Merrimack_College/Conservation_Laws_Newton's_Laws_and_Kinematics_version_2.0/08%3A_C8_Conservation_of_Energy-_Kinetic_and_Gravitational/8.05%3A_Relative_Velocity_and_the_Coefficient_of_Restitution) you can quantify how elastic a collision is with the coefficient of restitution (COR). Typically football tackles are classified as inelastic collisions, but we'd like to use the COR to quantify how inelastic a tackle is.\n",
    "\n",
    "We are suggesting an adjusted COR which adds 1 to the numerator and denominator to account for division by 0.\n",
    " \n",
    "\n",
    "## COR= \n",
    "## $\\frac{(v_{2f} - v_{1f})+1}{(v_{2i} - v_{1i})+1}$"
   ]
  },
  {
   "cell_type": "code",
   "execution_count": null,
   "id": "4b2475a2",
   "metadata": {
    "_kg_hide-input": true,
    "execution": {
     "iopub.execute_input": "2023-12-15T21:35:48.475185Z",
     "iopub.status.busy": "2023-12-15T21:35:48.474819Z",
     "iopub.status.idle": "2023-12-15T21:35:48.510435Z",
     "shell.execute_reply": "2023-12-15T21:35:48.509467Z"
    },
    "papermill": {
     "duration": 0.063331,
     "end_time": "2023-12-15T21:35:48.512860",
     "exception": false,
     "start_time": "2023-12-15T21:35:48.449529",
     "status": "completed"
    },
    "tags": []
   },
   "outputs": [],
   "source": [
    "def create_force_features(df_full):\n",
    "    df_full['force_ballcarrier']=df_full['ballCarrierWeight']*df_full['a_ballcarrier']\n",
    "    df_full['force_tackler']=df_full['tacklerWeight']*df_full['a_tackler']\n",
    "    df_full['momentum_ballcarrier']=df_full['ballCarrierWeight']*df_full['s_ballcarrier']\n",
    "    df_full['momentum_tackler']=df_full['tacklerWeight']*df_full['s_tackler']\n",
    "    #calculate distance between player tackling and player being tackled\n",
    "    df_full['dis_ballcarrier_tackler']=np.sqrt(((df_full['x_standard_ballcarrier'] -df_full['x_standard_tackler'])**2)+((df_full['y_standard_ballcarrier'] -df_full['y_standard_tackler'])**2))\n",
    "    return df_full\n",
    "df_full=create_force_features(df_full)\n"
   ]
  },
  {
   "cell_type": "code",
   "execution_count": null,
   "id": "3ebb12d5",
   "metadata": {
    "_kg_hide-input": true,
    "execution": {
     "iopub.execute_input": "2023-12-15T21:35:48.561770Z",
     "iopub.status.busy": "2023-12-15T21:35:48.561402Z",
     "iopub.status.idle": "2023-12-15T21:35:48.567170Z",
     "shell.execute_reply": "2023-12-15T21:35:48.566184Z"
    },
    "papermill": {
     "duration": 0.033206,
     "end_time": "2023-12-15T21:35:48.569197",
     "exception": false,
     "start_time": "2023-12-15T21:35:48.535991",
     "status": "completed"
    },
    "tags": []
   },
   "outputs": [],
   "source": [
    "import time\n",
    "\n",
    "def minutes_to_seconds(minutes):\n",
    "  return minutes * 60\n",
    "\n",
    "def seconds_to_minutes(seconds):\n",
    "  return seconds // 60\n",
    "def convert_minutes_to_seconds(hours_minutes_and_seconds):\n",
    "  hours, minutes, seconds = hours_minutes_and_seconds.split(':')\n",
    "  return minutes_to_seconds(int(minutes)) + seconds_to_minutes(float(seconds))\n",
    "\n",
    "\n"
   ]
  },
  {
   "cell_type": "code",
   "execution_count": null,
   "id": "45820023",
   "metadata": {
    "_kg_hide-input": true,
    "execution": {
     "iopub.execute_input": "2023-12-15T21:35:48.618998Z",
     "iopub.status.busy": "2023-12-15T21:35:48.618611Z",
     "iopub.status.idle": "2023-12-15T21:36:01.600522Z",
     "shell.execute_reply": "2023-12-15T21:36:01.599356Z"
    },
    "papermill": {
     "duration": 13.009686,
     "end_time": "2023-12-15T21:36:01.603199",
     "exception": false,
     "start_time": "2023-12-15T21:35:48.593513",
     "status": "completed"
    },
    "tags": []
   },
   "outputs": [],
   "source": [
    "import datetime \n",
    "from datetime import datetime\n",
    "\n",
    "df_full['time']=df_full['time'].apply(lambda x: datetime.strptime(x,'%Y-%m-%d %H:%M:%S.%f' ))\n",
    "df_full['time_adj']=df_full['time'].apply(lambda x: x.time())\n",
    "df_full['time_seconds']=df_full['time_adj'].apply(lambda x: convert_minutes_to_seconds(str(x)))\n"
   ]
  },
  {
   "cell_type": "code",
   "execution_count": null,
   "id": "daacbe4e",
   "metadata": {
    "_kg_hide-input": true,
    "execution": {
     "iopub.execute_input": "2023-12-15T21:36:01.653509Z",
     "iopub.status.busy": "2023-12-15T21:36:01.653145Z",
     "iopub.status.idle": "2023-12-15T21:36:03.028413Z",
     "shell.execute_reply": "2023-12-15T21:36:03.027092Z"
    },
    "papermill": {
     "duration": 1.403339,
     "end_time": "2023-12-15T21:36:03.031141",
     "exception": false,
     "start_time": "2023-12-15T21:36:01.627802",
     "status": "completed"
    },
    "tags": []
   },
   "outputs": [],
   "source": [
    "\n",
    "df_full['time_elapsed']=df_full.groupby(['gameplayid', 'frameId'])['time_seconds'].diff()\n",
    "df_full['nflId_tackler']=df_full['nflId_tackler'].astype(str)\n",
    "df_full['nflId_ballcarrier']=df_full['nflId_ballcarrier'].astype(str)\n"
   ]
  },
  {
   "cell_type": "code",
   "execution_count": null,
   "id": "cfa2a640",
   "metadata": {
    "_kg_hide-input": true,
    "execution": {
     "iopub.execute_input": "2023-12-15T21:36:03.079245Z",
     "iopub.status.busy": "2023-12-15T21:36:03.078645Z",
     "iopub.status.idle": "2023-12-15T21:36:04.168207Z",
     "shell.execute_reply": "2023-12-15T21:36:04.167111Z"
    },
    "papermill": {
     "duration": 1.116296,
     "end_time": "2023-12-15T21:36:04.170763",
     "exception": false,
     "start_time": "2023-12-15T21:36:03.054467",
     "status": "completed"
    },
    "tags": []
   },
   "outputs": [],
   "source": [
    "df_full.sort_values(by=['gameplayid', 'frameId'], inplace=True)\n"
   ]
  },
  {
   "cell_type": "code",
   "execution_count": null,
   "id": "a6146928",
   "metadata": {
    "execution": {
     "iopub.execute_input": "2023-12-15T21:36:04.219180Z",
     "iopub.status.busy": "2023-12-15T21:36:04.218546Z",
     "iopub.status.idle": "2023-12-15T21:36:04.477145Z",
     "shell.execute_reply": "2023-12-15T21:36:04.476142Z"
    },
    "papermill": {
     "duration": 0.28556,
     "end_time": "2023-12-15T21:36:04.479514",
     "exception": false,
     "start_time": "2023-12-15T21:36:04.193954",
     "status": "completed"
    },
    "tags": []
   },
   "outputs": [],
   "source": [
    "\n",
    "df_full['relative_direction']=df_full['dir_standard_tackler']-df_full['dir_standard_ballcarrier']\n",
    "df_full['relative_o']=df_full['o_standard_tackler']-df_full['o_standard_ballcarrier']\n",
    "df_full['playNullifiedByPenalty'].replace({'Y':1, 'N':0}, inplace=True)"
   ]
  },
  {
   "cell_type": "code",
   "execution_count": null,
   "id": "2a3805d0",
   "metadata": {
    "_kg_hide-input": true,
    "execution": {
     "iopub.execute_input": "2023-12-15T21:36:04.527639Z",
     "iopub.status.busy": "2023-12-15T21:36:04.527219Z",
     "iopub.status.idle": "2023-12-15T21:36:07.512919Z",
     "shell.execute_reply": "2023-12-15T21:36:07.511666Z"
    },
    "papermill": {
     "duration": 3.0127,
     "end_time": "2023-12-15T21:36:07.515410",
     "exception": false,
     "start_time": "2023-12-15T21:36:04.502710",
     "status": "completed"
    },
    "tags": []
   },
   "outputs": [],
   "source": [
    "df_groupplay=df_full.groupby(by=['gameplayid', 'displayName'])['dis_ballcarrier_tackler'].min().reset_index()\n",
    "df_groupplay['tackleframe']=1\n",
    "df_full=pd.merge(df_groupplay, df_full, left_on=['gameplayid', 'displayName', 'dis_ballcarrier_tackler'], right_on=['gameplayid','displayName', 'dis_ballcarrier_tackler'], how='right')\n",
    "df_full['tackle_frame_final']=np.where((df_full['tackleframe']==1), 1, 0)\n",
    "df_full['prior_speed_tackler']=df_full.groupby(['gameplayid', 'displayName'])['s_tackler'].shift(1)\n",
    "df_full['next_speed_tackler']=df_full.groupby(['gameplayid', 'displayName'])['s_tackler'].shift(-1)\n",
    "df_full['prior_speed_ballcarrier']=df_full.groupby(['gameplayid', 'displayName'])['s_ballcarrier'].shift(1)\n",
    "df_full['next_speed_ballcarrier']=df_full.groupby(['gameplayid', 'displayName'])['s_ballcarrier'].shift(-1)\n"
   ]
  },
  {
   "cell_type": "code",
   "execution_count": null,
   "id": "adc3f1ad",
   "metadata": {
    "_kg_hide-input": true,
    "execution": {
     "iopub.execute_input": "2023-12-15T21:36:07.563504Z",
     "iopub.status.busy": "2023-12-15T21:36:07.563150Z",
     "iopub.status.idle": "2023-12-15T21:36:16.759410Z",
     "shell.execute_reply": "2023-12-15T21:36:16.758343Z"
    },
    "papermill": {
     "duration": 9.223178,
     "end_time": "2023-12-15T21:36:16.761899",
     "exception": false,
     "start_time": "2023-12-15T21:36:07.538721",
     "status": "completed"
    },
    "tags": []
   },
   "outputs": [],
   "source": [
    "def group_by_play(df_full):\n",
    "    df_full_grouped=df_full.groupby(by=['gameplayid',  'displayName']).agg({'playNullifiedByPenalty':'max', 'relative_o':'mean', 'relative_direction':'mean', 'time':['min', 'max'], 'time_seconds':['min', 'max'],'offenseFormation':pd.Series.mode,'tacklerPosition': pd.Series.mode, 'ballcarrierPosition':pd.Series.mode,'offenseFormation':'first',  'x_tackler':['min', 'max','mean'], 'y_tackler':['min', 'max','mean'],\n",
    "                                  's_tackler':['first', 'last','min', 'max','mean'], 'a_tackler':['min', 'max','mean'], 'dis_tackler':['min', 'max','mean'],\n",
    "                                  'o_tackler':['min', 'max','mean'], 'dir_tackler':['min', 'max','mean'], 'o_standard_tackler':['min', 'max','mean'],\n",
    "                                  'dir_standard_tackler':['min', 'max','mean'], 'x_standard_tackler':['min', 'max','mean'], 'y_standard_tackler':['min', 'max','mean'],\n",
    "                                  'quarter':['min', 'max','mean'], 'down':['min', 'max','mean'], 'yardsToGo':['min', 'max','mean'],\n",
    "                                  'gameClock':['min', 'max'], 'preSnapHomeScore':['min', 'max','mean'], 'preSnapVisitorScore':['min', 'max','mean'],\n",
    "                                  'passLength':['min', 'max','mean'], 'absoluteYardlineNumber':['min', 'max','mean'], 'defendersInTheBox': ['min', 'max','mean'],\n",
    "                                  'expectedPoints':['min', 'max','mean'], 'tackle':'max', 'assist':'max',  'pff_missedTackle':'max', 'tacklerWeight': 'mean',\n",
    "                                  'x_ballcarrier': ['min', 'max','mean'], 'y_ballcarrier':['min', 'max','mean'], 's_ballcarrier':['first', 'last','min', 'max','mean'],\n",
    "                                  'a_ballcarrier':['min', 'max','mean'], 'dis_ballcarrier': ['min', 'max','mean'], 'o_ballcarrier':['min', 'max','mean'],\n",
    "                                  'o_standard_ballcarrier':['min', 'max','mean'],'dir_standard_ballcarrier':['min', 'max','mean'],\n",
    "                                  'x_standard_ballcarrier':['min', 'max','mean'], 'y_standard_ballcarrier':['min', 'max','mean'], 'ballCarrierWeight':'mean', 'force_ballcarrier':['min', 'max','mean'],\n",
    "                                  'force_tackler':['min', 'max','mean']}).reset_index()\n",
    "    df_full_grouped.columns =df_full_grouped.columns.map('|'.join).str.strip('|')\n",
    "    return df_full_grouped\n",
    "df_full_grouped=group_by_play(df_full)\n"
   ]
  },
  {
   "cell_type": "markdown",
   "id": "231e52e7",
   "metadata": {
    "papermill": {
     "duration": 0.022805,
     "end_time": "2023-12-15T21:36:16.809203",
     "exception": false,
     "start_time": "2023-12-15T21:36:16.786398",
     "status": "completed"
    },
    "tags": []
   },
   "source": [
    "## Summary Statistics"
   ]
  },
  {
   "cell_type": "code",
   "execution_count": null,
   "id": "dc2ad129",
   "metadata": {
    "_kg_hide-input": true,
    "execution": {
     "iopub.execute_input": "2023-12-15T21:36:16.857466Z",
     "iopub.status.busy": "2023-12-15T21:36:16.857111Z",
     "iopub.status.idle": "2023-12-15T21:36:16.907189Z",
     "shell.execute_reply": "2023-12-15T21:36:16.906147Z"
    },
    "papermill": {
     "duration": 0.077475,
     "end_time": "2023-12-15T21:36:16.909629",
     "exception": false,
     "start_time": "2023-12-15T21:36:16.832154",
     "status": "completed"
    },
    "tags": []
   },
   "outputs": [],
   "source": [
    "print('Total plays: ', df_full_grouped['gameplayid'].nunique())\n",
    "print('Total plays not nullified by penalty: ', df_full_grouped[df_full_grouped['playNullifiedByPenalty|max']==0]['gameplayid'].nunique())\n",
    "print('Total row count: ', len(df_full_grouped[df_full_grouped['playNullifiedByPenalty|max']==0]))\n",
    "print('Total missed tackles: ', len(df_full_grouped[(df_full_grouped['pff_missedTackle|max']==1)]['gameplayid']))\n",
    "print('Total assists: ', len(df_full_grouped[((df_full_grouped['assist|max']==1)&(df_full_grouped['pff_missedTackle|max']==0))]['gameplayid']))\n",
    "print('Total tackles: ', len(df_full_grouped[((df_full_grouped['tackle|max']==1)&(df_full_grouped['assist|max']==0)&(df_full_grouped['pff_missedTackle|max']==0))]['gameplayid']))"
   ]
  },
  {
   "cell_type": "code",
   "execution_count": null,
   "id": "545bdb4e",
   "metadata": {
    "execution": {
     "iopub.execute_input": "2023-12-15T21:36:16.958225Z",
     "iopub.status.busy": "2023-12-15T21:36:16.957856Z",
     "iopub.status.idle": "2023-12-15T21:36:16.970663Z",
     "shell.execute_reply": "2023-12-15T21:36:16.969635Z"
    },
    "papermill": {
     "duration": 0.040128,
     "end_time": "2023-12-15T21:36:16.972962",
     "exception": false,
     "start_time": "2023-12-15T21:36:16.932834",
     "status": "completed"
    },
    "tags": []
   },
   "outputs": [],
   "source": [
    "##remove plays nullified by penalty \n",
    "df_full_grouped=df_full_grouped[df_full_grouped['playNullifiedByPenalty|max']==0]"
   ]
  },
  {
   "cell_type": "code",
   "execution_count": null,
   "id": "59bcc0ff",
   "metadata": {
    "_kg_hide-input": true,
    "execution": {
     "iopub.execute_input": "2023-12-15T21:36:17.022161Z",
     "iopub.status.busy": "2023-12-15T21:36:17.021259Z",
     "iopub.status.idle": "2023-12-15T21:36:17.120848Z",
     "shell.execute_reply": "2023-12-15T21:36:17.119960Z"
    },
    "papermill": {
     "duration": 0.12731,
     "end_time": "2023-12-15T21:36:17.123354",
     "exception": false,
     "start_time": "2023-12-15T21:36:16.996044",
     "status": "completed"
    },
    "tags": []
   },
   "outputs": [],
   "source": [
    "df_speed_subset=df_full[df_full['tackle_frame_final']==1][['gameplayid', 'displayName', 's_tackler', 'prior_speed_tackler', 'next_speed_tackler', 's_ballcarrier', 'prior_speed_ballcarrier', 'next_speed_ballcarrier']]"
   ]
  },
  {
   "cell_type": "code",
   "execution_count": null,
   "id": "d0f21589",
   "metadata": {
    "_kg_hide-input": true,
    "execution": {
     "iopub.execute_input": "2023-12-15T21:36:17.172172Z",
     "iopub.status.busy": "2023-12-15T21:36:17.171283Z",
     "iopub.status.idle": "2023-12-15T21:36:17.181059Z",
     "shell.execute_reply": "2023-12-15T21:36:17.180163Z"
    },
    "papermill": {
     "duration": 0.036251,
     "end_time": "2023-12-15T21:36:17.183315",
     "exception": false,
     "start_time": "2023-12-15T21:36:17.147064",
     "status": "completed"
    },
    "tags": []
   },
   "outputs": [],
   "source": [
    "df_speed_subset.fillna(0, inplace=True)"
   ]
  },
  {
   "cell_type": "markdown",
   "id": "ec8b4e08",
   "metadata": {
    "papermill": {
     "duration": 0.022964,
     "end_time": "2023-12-15T21:36:17.229655",
     "exception": false,
     "start_time": "2023-12-15T21:36:17.206691",
     "status": "completed"
    },
    "tags": []
   },
   "source": [
    "Just for an extra resource, I'm going to create descriptions of each game by adding all the play descriptions together for each game."
   ]
  },
  {
   "cell_type": "markdown",
   "id": "b3ffd41a",
   "metadata": {
    "papermill": {
     "duration": 0.022777,
     "end_time": "2023-12-15T21:36:17.275335",
     "exception": false,
     "start_time": "2023-12-15T21:36:17.252558",
     "status": "completed"
    },
    "tags": []
   },
   "source": [
    "# 4. Create summary of game <a class=\"anchor\"  id=\"4\"></a>"
   ]
  },
  {
   "cell_type": "code",
   "execution_count": null,
   "id": "17ebf8ef",
   "metadata": {
    "_kg_hide-input": true,
    "execution": {
     "iopub.execute_input": "2023-12-15T21:36:17.323917Z",
     "iopub.status.busy": "2023-12-15T21:36:17.322858Z",
     "iopub.status.idle": "2023-12-15T21:36:17.533195Z",
     "shell.execute_reply": "2023-12-15T21:36:17.532056Z"
    },
    "papermill": {
     "duration": 0.23752,
     "end_time": "2023-12-15T21:36:17.535848",
     "exception": false,
     "start_time": "2023-12-15T21:36:17.298328",
     "status": "completed"
    },
    "tags": []
   },
   "outputs": [],
   "source": [
    "df_playdescription = df_plays[['gameId', 'playId', 'playDescription', 'gameClock']].sort_values(by=['gameId',  'gameClock']).set_index('gameId')\n",
    "df_gamedescription=df_playdescription.groupby(['gameId'])[['playDescription']].transform(lambda x: ','.join(x)).reset_index().drop_duplicates()\n",
    "df_gamedescription.rename(columns={'playDescription':'gameDescription'}, inplace=True)"
   ]
  },
  {
   "cell_type": "code",
   "execution_count": null,
   "id": "935221d4",
   "metadata": {
    "_kg_hide-input": true,
    "execution": {
     "iopub.execute_input": "2023-12-15T21:36:17.584946Z",
     "iopub.status.busy": "2023-12-15T21:36:17.584305Z",
     "iopub.status.idle": "2023-12-15T21:36:17.594111Z",
     "shell.execute_reply": "2023-12-15T21:36:17.593113Z"
    },
    "papermill": {
     "duration": 0.036806,
     "end_time": "2023-12-15T21:36:17.596319",
     "exception": false,
     "start_time": "2023-12-15T21:36:17.559513",
     "status": "completed"
    },
    "tags": []
   },
   "outputs": [],
   "source": [
    "df_gamedescription.head()"
   ]
  },
  {
   "cell_type": "markdown",
   "id": "7f1b30f9",
   "metadata": {
    "papermill": {
     "duration": 0.023494,
     "end_time": "2023-12-15T21:36:17.643707",
     "exception": false,
     "start_time": "2023-12-15T21:36:17.620213",
     "status": "completed"
    },
    "tags": []
   },
   "source": [
    "# 5. Exploratory Data Analysis <a class=\"anchor\"  id=\"5\"></a>"
   ]
  },
  {
   "cell_type": "markdown",
   "id": "3e6c3514",
   "metadata": {
    "papermill": {
     "duration": 0.02319,
     "end_time": "2023-12-15T21:36:17.690698",
     "exception": false,
     "start_time": "2023-12-15T21:36:17.667508",
     "status": "completed"
    },
    "tags": []
   },
   "source": [
    "Now that I have a final dataframe with one row per play, I'm going to explore the various features that can relate to a successful or unsuccessful tackle. Part of this involves merging more data related to the player who is tackling (tackler) and the ball carrier. \n",
    " "
   ]
  },
  {
   "cell_type": "code",
   "execution_count": null,
   "id": "60abf699",
   "metadata": {
    "execution": {
     "iopub.execute_input": "2023-12-15T21:36:17.741490Z",
     "iopub.status.busy": "2023-12-15T21:36:17.740719Z",
     "iopub.status.idle": "2023-12-15T21:36:17.837053Z",
     "shell.execute_reply": "2023-12-15T21:36:17.836041Z"
    },
    "papermill": {
     "duration": 0.124689,
     "end_time": "2023-12-15T21:36:17.839586",
     "exception": false,
     "start_time": "2023-12-15T21:36:17.714897",
     "status": "completed"
    },
    "tags": []
   },
   "outputs": [],
   "source": [
    "def create_position_variables(df_full_grouped):\n",
    "\n",
    "    ballcarrier_position=pd.get_dummies(df_full_grouped[['gameplayid',  'displayName', 'ballcarrierPosition|mode']], columns=['ballcarrierPosition|mode'],drop_first=True).reset_index(drop=True)\n",
    "    ballcarrier_position.columns=['gameplayid', 'displayName', 'QB_ballcarrier', 'RB_ballcarrier', 'TE_ballcarrier', 'WR_ballcarrier']\n",
    "    tackler_position=pd.get_dummies(df_full_grouped[['gameplayid','displayName', 'tacklerPosition|mode']], columns=['tacklerPosition|mode'],drop_first=True).reset_index(drop=True)\n",
    "    tackler_position.columns=['gameplayid', 'displayName', 'tacklerPosition|mode_DB', 'tacklerPosition|mode_DE',\n",
    "       'tacklerPosition|mode_DT', 'tacklerPosition|mode_FS',\n",
    "       'tacklerPosition|mode_ILB', 'tacklerPosition|mode_MLB',\n",
    "       'tacklerPosition|mode_NT', 'tacklerPosition|mode_OLB',\n",
    "       'tacklerPosition|mode_SS']\n",
    "    offense_formation=pd.get_dummies(df_full_grouped[['gameplayid', 'displayName','offenseFormation|first']], columns=['offenseFormation|first'], drop_first=True).reset_index(drop=True)\n",
    "    df_merge=pd.merge(df_full_grouped,ballcarrier_position, on=['gameplayid', 'displayName'] )\n",
    "    df_merge=pd.merge(df_merge,tackler_position, on=['gameplayid', 'displayName'])\n",
    "    df_merge=pd.merge(df_merge, offense_formation, on=['gameplayid', 'displayName'])\n",
    "    \n",
    "    \n",
    "    return df_merge\n",
    "df_full_grouped=create_position_variables(df_full_grouped)"
   ]
  },
  {
   "cell_type": "markdown",
   "id": "da981379",
   "metadata": {
    "papermill": {
     "duration": 0.023226,
     "end_time": "2023-12-15T21:36:17.886347",
     "exception": false,
     "start_time": "2023-12-15T21:36:17.863121",
     "status": "completed"
    },
    "tags": []
   },
   "source": [
    "### Target Variable\n",
    "Our final target variable is the \"tackle assist success\". This is a binary field that flags if a tackle or assist occured during the play (1) or if a tackle was missed (0).\n",
    "We are also going to try to use tackle success as a target. This means we will only count solo tackles and missed tackles. Assists will be disregarded.\n",
    "\n",
    "Out of 17,456 events in the tracking data, 15,365 resulted in a \"tackle assist success\" and 2,091 were missed tackles. This brings our base success rate to 88%."
   ]
  },
  {
   "cell_type": "code",
   "execution_count": null,
   "id": "1463a7b5",
   "metadata": {
    "execution": {
     "iopub.execute_input": "2023-12-15T21:36:17.935418Z",
     "iopub.status.busy": "2023-12-15T21:36:17.934783Z",
     "iopub.status.idle": "2023-12-15T21:36:17.940975Z",
     "shell.execute_reply": "2023-12-15T21:36:17.940019Z"
    },
    "papermill": {
     "duration": 0.032925,
     "end_time": "2023-12-15T21:36:17.943074",
     "exception": false,
     "start_time": "2023-12-15T21:36:17.910149",
     "status": "completed"
    },
    "tags": []
   },
   "outputs": [],
   "source": [
    "#create final target variable\n",
    "df_full_grouped['tackle_assist_success']=np.where(((df_full_grouped['tackle|max']+df_full_grouped['assist|max']>=1)& (df_full_grouped['pff_missedTackle|max']==0)), 1, 0)\n"
   ]
  },
  {
   "cell_type": "code",
   "execution_count": null,
   "id": "de65370c",
   "metadata": {
    "execution": {
     "iopub.execute_input": "2023-12-15T21:36:17.992672Z",
     "iopub.status.busy": "2023-12-15T21:36:17.992238Z",
     "iopub.status.idle": "2023-12-15T21:36:18.007288Z",
     "shell.execute_reply": "2023-12-15T21:36:18.006433Z"
    },
    "papermill": {
     "duration": 0.043012,
     "end_time": "2023-12-15T21:36:18.009656",
     "exception": false,
     "start_time": "2023-12-15T21:36:17.966644",
     "status": "completed"
    },
    "tags": []
   },
   "outputs": [],
   "source": [
    "df_final=df_full_grouped[df_full_grouped['tackle|max']+df_full_grouped['assist|max']+df_full_grouped['pff_missedTackle|max']>=1]\n"
   ]
  },
  {
   "cell_type": "code",
   "execution_count": null,
   "id": "c5678931",
   "metadata": {
    "execution": {
     "iopub.execute_input": "2023-12-15T21:36:18.058738Z",
     "iopub.status.busy": "2023-12-15T21:36:18.058135Z",
     "iopub.status.idle": "2023-12-15T21:36:18.065311Z",
     "shell.execute_reply": "2023-12-15T21:36:18.064622Z"
    },
    "papermill": {
     "duration": 0.03413,
     "end_time": "2023-12-15T21:36:18.067242",
     "exception": false,
     "start_time": "2023-12-15T21:36:18.033112",
     "status": "completed"
    },
    "tags": []
   },
   "outputs": [],
   "source": [
    "df_final['event']=np.where(((df_final['tackle_assist_success']==1)& (df_final['assist|max']==0)), 1, np.where((df_final['tackle_assist_success']==1)& (df_final['assist|max']==1), 2, 0))"
   ]
  },
  {
   "cell_type": "code",
   "execution_count": null,
   "id": "74851fe3",
   "metadata": {
    "execution": {
     "iopub.execute_input": "2023-12-15T21:36:18.117145Z",
     "iopub.status.busy": "2023-12-15T21:36:18.116179Z",
     "iopub.status.idle": "2023-12-15T21:36:18.124674Z",
     "shell.execute_reply": "2023-12-15T21:36:18.123645Z"
    },
    "papermill": {
     "duration": 0.035402,
     "end_time": "2023-12-15T21:36:18.126691",
     "exception": false,
     "start_time": "2023-12-15T21:36:18.091289",
     "status": "completed"
    },
    "tags": []
   },
   "outputs": [],
   "source": [
    "df_final['tackle_assist_success'].value_counts()"
   ]
  },
  {
   "cell_type": "code",
   "execution_count": null,
   "id": "6895d4f9",
   "metadata": {
    "execution": {
     "iopub.execute_input": "2023-12-15T21:36:18.176111Z",
     "iopub.status.busy": "2023-12-15T21:36:18.175124Z",
     "iopub.status.idle": "2023-12-15T21:36:18.183631Z",
     "shell.execute_reply": "2023-12-15T21:36:18.182626Z"
    },
    "papermill": {
     "duration": 0.035405,
     "end_time": "2023-12-15T21:36:18.185713",
     "exception": false,
     "start_time": "2023-12-15T21:36:18.150308",
     "status": "completed"
    },
    "tags": []
   },
   "outputs": [],
   "source": [
    "df_final['event'].value_counts()"
   ]
  },
  {
   "cell_type": "code",
   "execution_count": null,
   "id": "7c5410a7",
   "metadata": {
    "execution": {
     "iopub.execute_input": "2023-12-15T21:36:18.234866Z",
     "iopub.status.busy": "2023-12-15T21:36:18.233987Z",
     "iopub.status.idle": "2023-12-15T21:36:18.270039Z",
     "shell.execute_reply": "2023-12-15T21:36:18.269140Z"
    },
    "papermill": {
     "duration": 0.063142,
     "end_time": "2023-12-15T21:36:18.272343",
     "exception": false,
     "start_time": "2023-12-15T21:36:18.209201",
     "status": "completed"
    },
    "tags": []
   },
   "outputs": [],
   "source": [
    "df_final=pd.merge(df_final, df_speed_subset, left_on=['gameplayid', 'displayName'], right_on=['gameplayid', 'displayName'], how='left')"
   ]
  },
  {
   "cell_type": "markdown",
   "id": "888546f5",
   "metadata": {
    "papermill": {
     "duration": 0.024707,
     "end_time": "2023-12-15T21:36:18.320981",
     "exception": false,
     "start_time": "2023-12-15T21:36:18.296274",
     "status": "completed"
    },
    "tags": []
   },
   "source": [
    "## Creating new features\n",
    "We wanted to calculate the range for a few values, including speed, acceleration, orientation, x, and y. "
   ]
  },
  {
   "cell_type": "code",
   "execution_count": null,
   "id": "911b1dd1",
   "metadata": {
    "execution": {
     "iopub.execute_input": "2023-12-15T21:36:18.370598Z",
     "iopub.status.busy": "2023-12-15T21:36:18.369507Z",
     "iopub.status.idle": "2023-12-15T21:36:18.388477Z",
     "shell.execute_reply": "2023-12-15T21:36:18.387513Z"
    },
    "papermill": {
     "duration": 0.046163,
     "end_time": "2023-12-15T21:36:18.390934",
     "exception": false,
     "start_time": "2023-12-15T21:36:18.344771",
     "status": "completed"
    },
    "tags": []
   },
   "outputs": [],
   "source": [
    "def create_diff_range(df_final):\n",
    "    df_final['difference_speed']=df_final['s_tackler|max']-df_final['s_ballcarrier|max']\n",
    "    df_final['difference_a']=df_final['a_tackler|max']-df_final['a_ballcarrier|max']\n",
    "    df_final['difference_orientation']=df_final['o_standard_tackler|max']-df_final['o_standard_ballcarrier|max']\n",
    "    df_final['tackler_x_range']=df_final['x_standard_tackler|max']-df_final['x_standard_tackler|min']\n",
    "    df_final['tackler_y_range']=df_final['y_standard_tackler|max']-df_final['y_standard_tackler|min']\n",
    "    df_final['tackler_s_range']=df_final['s_tackler|max']-df_final['s_tackler|min']\n",
    "    df_final['tackler_a_range']=df_final['a_tackler|max']-df_final['a_tackler|min']\n",
    "    df_final['o_range_tackler']=df_final['o_standard_tackler|max']-df_final['o_standard_tackler|min']\n",
    "    df_final['dir_range_tackler']=df_final['dir_standard_tackler|max']-df_final['dir_standard_tackler|min']\n",
    "    df_final['ballcarrier_x_range']=df_final['x_standard_ballcarrier|max']-df_final['x_standard_ballcarrier|min']\n",
    "    df_final['ballcarrier_y_range']=df_final['y_standard_ballcarrier|max']-df_final['y_standard_ballcarrier|min']\n",
    "    df_final['ballcarrier_s_range']=df_final['s_ballcarrier|max']-df_final['s_ballcarrier|min']\n",
    "    df_final['ballcarrier_a_range']=df_final['a_ballcarrier|max']-df_final['a_ballcarrier|min']\n",
    "    df_final['o_range_ballcarrier']=df_final['o_standard_ballcarrier|max']-df_final['o_standard_ballcarrier|min']\n",
    "    df_final['dir_range_ballcarrier']=df_final['dir_standard_ballcarrier|max']-df_final['dir_standard_ballcarrier|min']\n",
    "\n",
    "    return df_final\n",
    "df_final=create_diff_range(df_final)"
   ]
  },
  {
   "cell_type": "code",
   "execution_count": null,
   "id": "9480bd3c",
   "metadata": {
    "execution": {
     "iopub.execute_input": "2023-12-15T21:36:18.442760Z",
     "iopub.status.busy": "2023-12-15T21:36:18.442348Z",
     "iopub.status.idle": "2023-12-15T21:36:18.449697Z",
     "shell.execute_reply": "2023-12-15T21:36:18.448761Z"
    },
    "papermill": {
     "duration": 0.03727,
     "end_time": "2023-12-15T21:36:18.451914",
     "exception": false,
     "start_time": "2023-12-15T21:36:18.414644",
     "status": "completed"
    },
    "tags": []
   },
   "outputs": [],
   "source": [
    "df_final.columns.values"
   ]
  },
  {
   "cell_type": "markdown",
   "id": "3190089b",
   "metadata": {
    "papermill": {
     "duration": 0.024277,
     "end_time": "2023-12-15T21:36:18.500176",
     "exception": false,
     "start_time": "2023-12-15T21:36:18.475899",
     "status": "completed"
    },
    "tags": []
   },
   "source": [
    "\n",
    "\n"
   ]
  },
  {
   "cell_type": "markdown",
   "id": "5cd1d1b3",
   "metadata": {
    "papermill": {
     "duration": 0.023725,
     "end_time": "2023-12-15T21:36:18.547850",
     "exception": false,
     "start_time": "2023-12-15T21:36:18.524125",
     "status": "completed"
    },
    "tags": []
   },
   "source": [
    "### Calculating COR\n",
    "Now we will compute the COR for each tackle in the tracking data bsaed on the equation noted above. "
   ]
  },
  {
   "cell_type": "code",
   "execution_count": null,
   "id": "7f19fbed",
   "metadata": {
    "execution": {
     "iopub.execute_input": "2023-12-15T21:36:18.596946Z",
     "iopub.status.busy": "2023-12-15T21:36:18.596554Z",
     "iopub.status.idle": "2023-12-15T21:36:18.605842Z",
     "shell.execute_reply": "2023-12-15T21:36:18.605093Z"
    },
    "papermill": {
     "duration": 0.036009,
     "end_time": "2023-12-15T21:36:18.607835",
     "exception": false,
     "start_time": "2023-12-15T21:36:18.571826",
     "status": "completed"
    },
    "tags": []
   },
   "outputs": [],
   "source": [
    "df_final['next_speed_diff']= (df_final['next_speed_tackler']-df_final['next_speed_ballcarrier'])\n",
    "df_final['prior_speed_diff']=(df_final['prior_speed_tackler']-df_final['prior_speed_ballcarrier'])\n",
    "df_final['COR']=np.where(df_final['tackle_assist_success']==1, (df_final['next_speed_diff']+1).astype(float)/(df_final['prior_speed_diff']+1).astype(float),0 )\n"
   ]
  },
  {
   "cell_type": "code",
   "execution_count": null,
   "id": "c225ebe4",
   "metadata": {
    "execution": {
     "iopub.execute_input": "2023-12-15T21:36:18.659338Z",
     "iopub.status.busy": "2023-12-15T21:36:18.658320Z",
     "iopub.status.idle": "2023-12-15T21:36:18.670867Z",
     "shell.execute_reply": "2023-12-15T21:36:18.669782Z"
    },
    "papermill": {
     "duration": 0.040475,
     "end_time": "2023-12-15T21:36:18.672866",
     "exception": false,
     "start_time": "2023-12-15T21:36:18.632391",
     "status": "completed"
    },
    "tags": []
   },
   "outputs": [],
   "source": [
    "\n",
    "df_final['COR'].replace([float('inf'), float('-inf')], 0, inplace=True)\n",
    "df_final['COR'].describe()"
   ]
  },
  {
   "cell_type": "code",
   "execution_count": null,
   "id": "64ecdeca",
   "metadata": {
    "execution": {
     "iopub.execute_input": "2023-12-15T21:36:18.724202Z",
     "iopub.status.busy": "2023-12-15T21:36:18.723479Z",
     "iopub.status.idle": "2023-12-15T21:36:18.742524Z",
     "shell.execute_reply": "2023-12-15T21:36:18.741808Z"
    },
    "papermill": {
     "duration": 0.047336,
     "end_time": "2023-12-15T21:36:18.744549",
     "exception": false,
     "start_time": "2023-12-15T21:36:18.697213",
     "status": "completed"
    },
    "tags": []
   },
   "outputs": [],
   "source": [
    "df_successful_tackles=df_final[df_final['tackle_assist_success']==1]\n",
    "df_successful_tackles['COR'].describe()"
   ]
  },
  {
   "cell_type": "code",
   "execution_count": null,
   "id": "94c00141",
   "metadata": {
    "_kg_hide-input": true,
    "execution": {
     "iopub.execute_input": "2023-12-15T21:36:18.796131Z",
     "iopub.status.busy": "2023-12-15T21:36:18.795214Z",
     "iopub.status.idle": "2023-12-15T21:36:20.166210Z",
     "shell.execute_reply": "2023-12-15T21:36:20.165075Z"
    },
    "papermill": {
     "duration": 1.400231,
     "end_time": "2023-12-15T21:36:20.169231",
     "exception": false,
     "start_time": "2023-12-15T21:36:18.769000",
     "status": "completed"
    },
    "tags": []
   },
   "outputs": [],
   "source": [
    "df_final_subset= df_final.select_dtypes(include='number')\n",
    "from scipy.stats import pointbiserialr\n",
    "positive_variables=[]\n",
    "negative_variables=[]\n",
    "for col in df_final_subset.columns:\n",
    "    if df_final_subset[col].isna().sum()==0:\n",
    "        corr, p =pointbiserialr(df_final_subset[col], df_final_subset['tackle_assist_success'])\n",
    "        if corr >=.1 and p<.05:\n",
    "            positive_variables.append(col)\n",
    "        if corr <=-.1  and p<.05:\n",
    "            negative_variables.append(col)\n",
    "        \n",
    "\n",
    "print(positive_variables)\n",
    "print(negative_variables)"
   ]
  },
  {
   "cell_type": "code",
   "execution_count": null,
   "id": "2a13d0f7",
   "metadata": {
    "execution": {
     "iopub.execute_input": "2023-12-15T21:36:20.253355Z",
     "iopub.status.busy": "2023-12-15T21:36:20.252850Z",
     "iopub.status.idle": "2023-12-15T21:36:20.607486Z",
     "shell.execute_reply": "2023-12-15T21:36:20.606447Z"
    },
    "papermill": {
     "duration": 0.400437,
     "end_time": "2023-12-15T21:36:20.610357",
     "exception": false,
     "start_time": "2023-12-15T21:36:20.209920",
     "status": "completed"
    },
    "tags": []
   },
   "outputs": [],
   "source": [
    "df_final_subset= df_final.select_dtypes(include='number')\n",
    "from scipy.stats import pointbiserialr\n",
    "positive_variables2=[]\n",
    "negative_variables2=[]\n",
    "for col in df_final_subset.columns:\n",
    "    if df_final_subset[col].isna().sum()==0:\n",
    "        corr, p =pointbiserialr(df_final_subset[col], df_final_subset['pff_missedTackle|max'])\n",
    "        if corr >=.08 and p<.05:\n",
    "            positive_variables2.append(col)\n",
    "        if corr <=-.08  and p<.05:\n",
    "            negative_variables2.append(col)\n",
    "        \n",
    "\n",
    "print(positive_variables2)\n",
    "print(negative_variables2)"
   ]
  },
  {
   "cell_type": "code",
   "execution_count": null,
   "id": "e7f63b34",
   "metadata": {
    "execution": {
     "iopub.execute_input": "2023-12-15T21:36:20.696796Z",
     "iopub.status.busy": "2023-12-15T21:36:20.696210Z",
     "iopub.status.idle": "2023-12-15T21:36:20.733728Z",
     "shell.execute_reply": "2023-12-15T21:36:20.732858Z"
    },
    "papermill": {
     "duration": 0.084351,
     "end_time": "2023-12-15T21:36:20.736182",
     "exception": false,
     "start_time": "2023-12-15T21:36:20.651831",
     "status": "completed"
    },
    "tags": []
   },
   "outputs": [],
   "source": [
    "df_final.fillna(0, inplace=True)"
   ]
  },
  {
   "cell_type": "code",
   "execution_count": null,
   "id": "a0e6d444",
   "metadata": {
    "execution": {
     "iopub.execute_input": "2023-12-15T21:36:20.787516Z",
     "iopub.status.busy": "2023-12-15T21:36:20.786769Z",
     "iopub.status.idle": "2023-12-15T21:36:20.793788Z",
     "shell.execute_reply": "2023-12-15T21:36:20.792755Z"
    },
    "papermill": {
     "duration": 0.035334,
     "end_time": "2023-12-15T21:36:20.795813",
     "exception": false,
     "start_time": "2023-12-15T21:36:20.760479",
     "status": "completed"
    },
    "tags": []
   },
   "outputs": [],
   "source": [
    "positive_variables+negative_variables"
   ]
  },
  {
   "cell_type": "code",
   "execution_count": null,
   "id": "d2258cac",
   "metadata": {
    "execution": {
     "iopub.execute_input": "2023-12-15T21:36:20.847111Z",
     "iopub.status.busy": "2023-12-15T21:36:20.846181Z",
     "iopub.status.idle": "2023-12-15T21:36:20.851781Z",
     "shell.execute_reply": "2023-12-15T21:36:20.850995Z"
    },
    "papermill": {
     "duration": 0.03334,
     "end_time": "2023-12-15T21:36:20.853711",
     "exception": false,
     "start_time": "2023-12-15T21:36:20.820371",
     "status": "completed"
    },
    "tags": []
   },
   "outputs": [],
   "source": [
    "final_cols=[\n",
    " 'o_standard_tackler|min',\n",
    " 'o_standard_tackler|mean',\n",
    " 'dir_standard_tackler|min',\n",
    " 'a_tackler|max',\n",
    " 's_ballcarrier|max',\n",
    " 's_ballcarrier|mean',\n",
    " 'dis_ballcarrier|max',\n",
    " 'dis_ballcarrier|mean',\n",
    " 'prior_speed_tackler',\n",
    " 'prior_speed_ballcarrier',\n",
    " 'tackler_s_range',\n",
    " 'tackler_a_range',\n",
    " 'o_range_tackler',\n",
    " 'dir_range_tackler',\n",
    " 'ballcarrier_s_range'\n",
    "]"
   ]
  },
  {
   "cell_type": "code",
   "execution_count": null,
   "id": "67e27dcb",
   "metadata": {
    "execution": {
     "iopub.execute_input": "2023-12-15T21:36:20.905271Z",
     "iopub.status.busy": "2023-12-15T21:36:20.904325Z",
     "iopub.status.idle": "2023-12-15T21:36:20.987788Z",
     "shell.execute_reply": "2023-12-15T21:36:20.986801Z"
    },
    "papermill": {
     "duration": 0.111782,
     "end_time": "2023-12-15T21:36:20.990221",
     "exception": false,
     "start_time": "2023-12-15T21:36:20.878439",
     "status": "completed"
    },
    "tags": []
   },
   "outputs": [],
   "source": [
    "# Outlier Analysis\n",
    "\n",
    "iqr_factor = [2]\n",
    "list1, list2 = [], []\n",
    "\n",
    "for factor in iqr_factor:\n",
    "    count = 0\n",
    "    print(f'Outliers for {factor} IQR :')\n",
    "    print('-------------------------------------')\n",
    "    for col in final_cols:\n",
    "    \n",
    "        IQR = df_final[col].quantile(0.75) - df_final[col].quantile(0.25)\n",
    "        lower_lim = df_final[col].quantile(0.25) - factor*IQR\n",
    "        upper_lim = df_final[col].quantile(0.75) + factor*IQR\n",
    "    \n",
    "        cond = df_final[(df_final[col] < lower_lim) | (df_final[col] > upper_lim)].shape[0]\n",
    "        \n",
    "        if cond > 0 and factor == 1.5:\n",
    "            list1.append(df_final[(df_final[col] < lower_lim) | (df_final[col] > upper_lim)].index.tolist())\n",
    "        elif cond > 0 and factor == 3:\n",
    "            list2.append(X[(df_final[col] < lower_lim) | (df_final[col] > upper_lim)].index.tolist())\n",
    "        \n",
    "        if cond > 0: print(f'{col:<30} : ', cond); count += cond\n",
    "    print(f'\\nTOTAL OUTLIERS FOR {factor} IQR : {count}')\n",
    "    print('')"
   ]
  },
  {
   "cell_type": "code",
   "execution_count": null,
   "id": "d07e4788",
   "metadata": {
    "execution": {
     "iopub.execute_input": "2023-12-15T21:36:21.044148Z",
     "iopub.status.busy": "2023-12-15T21:36:21.043750Z",
     "iopub.status.idle": "2023-12-15T21:36:21.424192Z",
     "shell.execute_reply": "2023-12-15T21:36:21.423159Z"
    },
    "papermill": {
     "duration": 0.409833,
     "end_time": "2023-12-15T21:36:21.426831",
     "exception": false,
     "start_time": "2023-12-15T21:36:21.016998",
     "status": "completed"
    },
    "tags": []
   },
   "outputs": [],
   "source": [
    "def drop_outliers(df_final, col):\n",
    "    IQR = df_final[col].quantile(0.75) - df_final[col].quantile(0.25)\n",
    "    lower_lim = df_final[col].quantile(0.25) - (2*IQR)\n",
    "    upper_lim = df_final[col].quantile(0.75) + (2*IQR)\n",
    "    df_final.drop(df_final[df_final[col]>(upper_lim)].index, inplace=True)\n",
    "    df_final.drop(df_final[df_final[col]<(lower_lim)].index, inplace=True)\n",
    "\n",
    "for col in final_cols:\n",
    "    drop_outliers(df_final,col)"
   ]
  },
  {
   "cell_type": "code",
   "execution_count": null,
   "id": "f7eac298",
   "metadata": {
    "execution": {
     "iopub.execute_input": "2023-12-15T21:36:21.477561Z",
     "iopub.status.busy": "2023-12-15T21:36:21.476931Z",
     "iopub.status.idle": "2023-12-15T21:36:21.858605Z",
     "shell.execute_reply": "2023-12-15T21:36:21.857494Z"
    },
    "papermill": {
     "duration": 0.409531,
     "end_time": "2023-12-15T21:36:21.860826",
     "exception": false,
     "start_time": "2023-12-15T21:36:21.451295",
     "status": "completed"
    },
    "tags": []
   },
   "outputs": [],
   "source": [
    "df_final.describe()"
   ]
  },
  {
   "cell_type": "code",
   "execution_count": null,
   "id": "27e37942",
   "metadata": {
    "execution": {
     "iopub.execute_input": "2023-12-15T21:36:21.914848Z",
     "iopub.status.busy": "2023-12-15T21:36:21.913757Z",
     "iopub.status.idle": "2023-12-15T21:36:23.478086Z",
     "shell.execute_reply": "2023-12-15T21:36:23.476897Z"
    },
    "papermill": {
     "duration": 1.595938,
     "end_time": "2023-12-15T21:36:23.482708",
     "exception": false,
     "start_time": "2023-12-15T21:36:21.886770",
     "status": "completed"
    },
    "tags": []
   },
   "outputs": [],
   "source": [
    "import matplotlib.pyplot as plt\n",
    "import seaborn as sns\n",
    "plt.figure(figsize=(15,15))\n",
    "plt.title('Correlation Heatmap of Features', size=15)\n",
    "\n",
    "sns.heatmap(df_final_subset[final_cols].astype(float).corr(),linewidths=0.1,vmax=1.0, square=True, linecolor='white', annot=True)"
   ]
  },
  {
   "cell_type": "code",
   "execution_count": null,
   "id": "d4ef8c11",
   "metadata": {
    "execution": {
     "iopub.execute_input": "2023-12-15T21:36:23.544867Z",
     "iopub.status.busy": "2023-12-15T21:36:23.544020Z",
     "iopub.status.idle": "2023-12-15T21:36:23.581894Z",
     "shell.execute_reply": "2023-12-15T21:36:23.580791Z"
    },
    "papermill": {
     "duration": 0.071666,
     "end_time": "2023-12-15T21:36:23.584287",
     "exception": false,
     "start_time": "2023-12-15T21:36:23.512621",
     "status": "completed"
    },
    "tags": []
   },
   "outputs": [],
   "source": [
    "df_set=df_final[['displayName', 'tackle|max','assist|max','pff_missedTackle|max',\n",
    "                      'o_standard_tackler|min',\n",
    " 'o_standard_tackler|mean',\n",
    " 'dir_standard_tackler|min',\n",
    " 'a_tackler|max',\n",
    " 's_ballcarrier|max',\n",
    " 's_ballcarrier|mean',\n",
    " 'dis_ballcarrier|max',\n",
    " 'dis_ballcarrier|mean',\n",
    " 'prior_speed_tackler',\n",
    " 'prior_speed_ballcarrier',\n",
    " 'tackler_s_range',\n",
    " 'tackler_a_range',\n",
    " 'o_range_tackler',\n",
    " 'dir_range_tackler',\n",
    " 'ballcarrier_s_range'\n",
    "]].groupby(by=['displayName']).mean().reset_index()\n",
    "df_set\n",
    "\n",
    "df_set_gameplays=df_final[['displayName', 'gameplayid']].groupby(by='displayName').nunique().reset_index()\n",
    "df_set_tackleassist=df_final[['displayName', 'tackle_assist_success', 'pff_missedTackle|max', 'assist|max', 'tackle|max']].groupby(by='displayName').sum().reset_index()\n",
    "df_set['gameplayid|nunique']=df_set_gameplays['gameplayid']\n",
    "df_set[['tackle_assist_count', 'missedTacklecount', 'assist_count', 'tackle_count']]=df_set_tackleassist[['tackle_assist_success', 'pff_missedTackle|max','assist|max', 'tackle|max']]\n"
   ]
  },
  {
   "cell_type": "markdown",
   "id": "73b6d834",
   "metadata": {
    "papermill": {
     "duration": 0.029318,
     "end_time": "2023-12-15T21:36:23.643461",
     "exception": false,
     "start_time": "2023-12-15T21:36:23.614143",
     "status": "completed"
    },
    "tags": []
   },
   "source": [
    "## My Key Takeaways"
   ]
  },
  {
   "cell_type": "markdown",
   "id": "53c7a9e3",
   "metadata": {
    "papermill": {
     "duration": 0.029877,
     "end_time": "2023-12-15T21:36:23.703667",
     "exception": false,
     "start_time": "2023-12-15T21:36:23.673790",
     "status": "completed"
    },
    "tags": []
   },
   "source": [
    "I looked at the relationship between the different features and tackle success, missed tackles, and forced fumbles. Based on some of the correlations, I decided to hold on to the following features to start building a predictive model:\n"
   ]
  },
  {
   "cell_type": "markdown",
   "id": "794c082e",
   "metadata": {
    "papermill": {
     "duration": 0.029879,
     "end_time": "2023-12-15T21:36:23.766592",
     "exception": false,
     "start_time": "2023-12-15T21:36:23.736713",
     "status": "completed"
    },
    "tags": []
   },
   "source": [
    "### Comparing Algorithms\n",
    "We'll start by testing 3 classification models: Linear Discriminant Analysis, K Neighbors Classifier, and LGBM Classifier.\n",
    "1. LDA finds a linear combination of features to separate classes of data. It is used for both dimensionality reduction and classification problems.\n",
    "2. KNeighbors is an algorithm that takes more computing power, but it is easy to implement and adapts to new data as it comes in.\n",
    "3. LGBM is our preferred model for this project because it is highly efficient, it can work with large or small datasets, and incoroporates the concept of parallel learning. \n",
    "\n",
    "All three models have their advantages and disadvantages, but we will start by comparing the untuned models to see which should be pursued further."
   ]
  },
  {
   "cell_type": "code",
   "execution_count": null,
   "id": "d86cf01e",
   "metadata": {
    "_kg_hide-input": true,
    "execution": {
     "iopub.execute_input": "2023-12-15T21:36:23.827671Z",
     "iopub.status.busy": "2023-12-15T21:36:23.826949Z",
     "iopub.status.idle": "2023-12-15T21:38:10.373560Z",
     "shell.execute_reply": "2023-12-15T21:38:10.372426Z"
    },
    "papermill": {
     "duration": 106.579789,
     "end_time": "2023-12-15T21:38:10.376032",
     "exception": false,
     "start_time": "2023-12-15T21:36:23.796243",
     "status": "completed"
    },
    "tags": []
   },
   "outputs": [],
   "source": [
    "# Compare Algorithms\n",
    "!pip install xgboost\n",
    "import pandas\n",
    "from lightgbm import LGBMClassifier\n",
    "from sklearn.linear_model import LogisticRegression\n",
    "from sklearn.neighbors import KNeighborsClassifier\n",
    "from sklearn.tree import DecisionTreeClassifier\n",
    "from sklearn.naive_bayes import GaussianNB\n",
    "from sklearn.svm import SVC\n",
    "import matplotlib.pyplot as plt\n",
    "from sklearn import model_selection\n",
    "from sklearn.discriminant_analysis import LinearDiscriminantAnalysis\n",
    "from sklearn.model_selection import StratifiedKFold,StratifiedGroupKFold, train_test_split\n",
    "from sklearn.metrics import confusion_matrix\n",
    "import xgboost as xgb\n",
    "from xgboost import XGBClassifier\n",
    "from sklearn.ensemble import AdaBoostClassifier, RandomForestClassifier\n",
    "from sklearn.tree import DecisionTreeClassifier\n",
    "weak_learner = DecisionTreeClassifier(max_leaf_nodes=8)\n",
    "df_final2=df_final[df_final['event']!='Assist']\n",
    "X=df_final[final_cols\n",
    "    \n",
    "]\n",
    "X.fillna(0, inplace=True) ##fill in missing pass length to 0\n",
    "groups=df_final['displayName']\n",
    "y=df_final['event']\n",
    "\n",
    "# prepare configuration for cross validation test harness\n",
    "seed = 7\n",
    "# prepare models\n",
    "models = []\n",
    "\n",
    "models.append(('LDA', LinearDiscriminantAnalysis()))\n",
    "##models.append(('KNN', KNeighborsClassifier()))\n",
    "models.append(('LGBM', LGBMClassifier()))\n",
    "models.append(('XBG', XGBClassifier()))\n",
    "models.append(('CART', DecisionTreeClassifier()))\n",
    "models.append(('NB', GaussianNB()))\n",
    "models.append(('SVM', SVC()))\n",
    "models.append(('adaboost_clf', AdaBoostClassifier(\n",
    "    estimator=weak_learner,\n",
    "    algorithm=\"SAMME\",\n",
    "    random_state=42,\n",
    ")))\n",
    "models.append(('LG', LogisticRegression()))\n",
    "\n",
    "# evaluate each model in turn\n",
    "results = []\n",
    "names = []\n",
    "scoring = 'accuracy'\n",
    "\n",
    "for name, model in models:\n",
    "    kfold = StratifiedKFold(n_splits=5)\n",
    "    \n",
    "    cv_results = model_selection.cross_val_score(model, X, y,  cv=kfold, scoring=scoring)\n",
    "    results.append(cv_results)\n",
    "    names.append(name)\n",
    "    msg = \"%s: %f (%f)\" % (name, cv_results.mean(), cv_results.std())\n",
    "    print(msg)\n",
    "# boxplot algorithm comparison\n",
    "fig = plt.figure()\n",
    "fig.suptitle('Comparing Base Models')\n",
    "ax = fig.add_subplot(111)\n",
    "plt.boxplot(results)\n",
    "ax.set_xticklabels(names)\n",
    "ax.set_ylabel('Accuracy Score')\n",
    "plt.show()"
   ]
  },
  {
   "cell_type": "markdown",
   "id": "ed4fd6b8",
   "metadata": {
    "papermill": {
     "duration": 0.030718,
     "end_time": "2023-12-15T21:38:10.437618",
     "exception": false,
     "start_time": "2023-12-15T21:38:10.406900",
     "status": "completed"
    },
    "tags": []
   },
   "source": [
    "The boxplot above compares the accuracy of the three models. It is clear that LGBM has the highest accuracy and therefore we will continue to tune this model."
   ]
  },
  {
   "cell_type": "code",
   "execution_count": null,
   "id": "0546f829",
   "metadata": {
    "execution": {
     "iopub.execute_input": "2023-12-15T21:38:10.500811Z",
     "iopub.status.busy": "2023-12-15T21:38:10.500424Z",
     "iopub.status.idle": "2023-12-15T21:38:11.765622Z",
     "shell.execute_reply": "2023-12-15T21:38:11.764724Z"
    },
    "papermill": {
     "duration": 1.299659,
     "end_time": "2023-12-15T21:38:11.767975",
     "exception": false,
     "start_time": "2023-12-15T21:38:10.468316",
     "status": "completed"
    },
    "tags": []
   },
   "outputs": [],
   "source": [
    "!pip install optuna\n",
    "import optuna  # pip install optuna\n",
    "from sklearn.metrics import log_loss, accuracy_score\n",
    "from sklearn.model_selection import StratifiedKFold\n",
    "from optuna.samplers import TPESampler\n",
    "from sklearn.model_selection import train_test_split\n",
    "X_train, X_test, y_train, y_test=train_test_split(X, y, stratify=y)\n",
    "\n",
    "def objective(trial):\n",
    "    \"\"\"\n",
    "    Objective function to be minimized.\n",
    "    \"\"\"\n",
    "    param = {\n",
    "        \"objective\": \"multiclass\",\n",
    "        \"metric\": \"multi_logloss\",\n",
    "        \"verbosity\": -1,\n",
    "        \"boosting_type\": \"gbdt\",\n",
    "        \"num_class\": 3,\n",
    "        \"lambda_l1\": trial.suggest_float(\"lambda_l1\", 1e-8, 10.0, log=True),\n",
    "        \"lambda_l2\": trial.suggest_float(\"lambda_l2\", 1e-8, 10.0, log=True),\n",
    "        \"num_leaves\": trial.suggest_int(\"num_leaves\", 2, 256),\n",
    "        \"feature_fraction\": trial.suggest_float(\"feature_fraction\", 0.4, 1.0),\n",
    "        \"bagging_fraction\": trial.suggest_float(\"bagging_fraction\", 0.4, 1.0),\n",
    "        \"bagging_freq\": trial.suggest_int(\"bagging_freq\", 1, 7),\n",
    "        \"min_child_samples\": trial.suggest_int(\"min_child_samples\", 5, 100),\n",
    "        \"learning_rate\": trial.suggest_float('learning_rate', 1e-5, 1e-1, log=True)\n",
    "    }\n",
    "    gbm = LGBMClassifier(**param)\n",
    "    gbm.fit(X_train, y_train)\n",
    "    preds = gbm.predict(X_test)\n",
    "    prob = gbm.predict_proba(X_test)\n",
    "    accuracy = accuracy_score(y_test, preds)\n",
    "    return accuracy"
   ]
  },
  {
   "cell_type": "code",
   "execution_count": null,
   "id": "7fceaff3",
   "metadata": {
    "_kg_hide-output": true,
    "execution": {
     "iopub.execute_input": "2023-12-15T21:38:11.831766Z",
     "iopub.status.busy": "2023-12-15T21:38:11.831350Z",
     "iopub.status.idle": "2023-12-15T21:38:11.837998Z",
     "shell.execute_reply": "2023-12-15T21:38:11.836940Z"
    },
    "papermill": {
     "duration": 0.040809,
     "end_time": "2023-12-15T21:38:11.840028",
     "exception": false,
     "start_time": "2023-12-15T21:38:11.799219",
     "status": "completed"
    },
    "tags": []
   },
   "outputs": [],
   "source": [
    "\"\"\"sampler = TPESampler(seed=1)\n",
    "study = optuna.create_study(study_name=\"lightgbm\", direction=\"maximize\", sampler=sampler)\n",
    "study.optimize(objective, n_trials=100)\"\"\"\n"
   ]
  },
  {
   "cell_type": "markdown",
   "id": "93169865",
   "metadata": {
    "papermill": {
     "duration": 0.031118,
     "end_time": "2023-12-15T21:38:11.902396",
     "exception": false,
     "start_time": "2023-12-15T21:38:11.871278",
     "status": "completed"
    },
    "tags": []
   },
   "source": [
    "## LGBM best params\n"
   ]
  },
  {
   "cell_type": "code",
   "execution_count": null,
   "id": "b200331f",
   "metadata": {
    "execution": {
     "iopub.execute_input": "2023-12-15T21:38:11.966826Z",
     "iopub.status.busy": "2023-12-15T21:38:11.965734Z",
     "iopub.status.idle": "2023-12-15T21:38:11.970350Z",
     "shell.execute_reply": "2023-12-15T21:38:11.969646Z"
    },
    "papermill": {
     "duration": 0.038825,
     "end_time": "2023-12-15T21:38:11.972319",
     "exception": false,
     "start_time": "2023-12-15T21:38:11.933494",
     "status": "completed"
    },
    "tags": []
   },
   "outputs": [],
   "source": [
    "#print('Best parameters:', study.best_params)"
   ]
  },
  {
   "cell_type": "code",
   "execution_count": null,
   "id": "f39b9bc4",
   "metadata": {
    "execution": {
     "iopub.execute_input": "2023-12-15T21:38:12.036710Z",
     "iopub.status.busy": "2023-12-15T21:38:12.036296Z",
     "iopub.status.idle": "2023-12-15T21:38:12.056270Z",
     "shell.execute_reply": "2023-12-15T21:38:12.055095Z"
    },
    "papermill": {
     "duration": 0.055024,
     "end_time": "2023-12-15T21:38:12.058913",
     "exception": false,
     "start_time": "2023-12-15T21:38:12.003889",
     "status": "completed"
    },
    "tags": []
   },
   "outputs": [],
   "source": [
    "X_train, X_test, y_train, y_test=train_test_split(X, y, stratify=y)\n",
    "\n",
    "def objective(trial):\n",
    "    \"\"\"\n",
    "    Objective function to be minimized.\n",
    "    \"\"\"\n",
    "    param = {\n",
    "        'max_depth': trial.suggest_int('max_depth', 1, 9),\n",
    "        'learning_rate': trial.suggest_loguniform('learning_rate', 0.01, 1.0),\n",
    "        'n_estimators': trial.suggest_int('n_estimators', 50, 500),\n",
    "        'min_child_weight': trial.suggest_int('min_child_weight', 1, 10),\n",
    "        'gamma': trial.suggest_loguniform('gamma', 1e-8, 1.0),\n",
    "        'subsample': trial.suggest_loguniform('subsample', 0.01, 1.0),\n",
    "        'colsample_bytree': trial.suggest_loguniform('colsample_bytree', 0.01, 1.0),\n",
    "        'reg_alpha': trial.suggest_loguniform('reg_alpha', 1e-8, 1.0),\n",
    "        'reg_lambda': trial.suggest_loguniform('reg_lambda', 1e-8, 1.0),\n",
    "        'eval_metric': 'mlogloss',\n",
    "        'use_label_encoder': False\n",
    "    }\n",
    "    gbm =XGBClassifier(**param)\n",
    "    gbm.fit(X_train, y_train)\n",
    "    preds = gbm.predict(X_test)\n",
    "    prob = gbm.predict_proba(X_test)\n",
    "    accuracy = accuracy_score(y_test, preds)\n",
    "    return accuracy\n",
    "\n",
    "#study = optuna.create_study(study_name=\"xgb\", direction=\"maximize\")\n",
    "#study.optimize(objective, n_trials=100)"
   ]
  },
  {
   "cell_type": "markdown",
   "id": "e3b7cbd0",
   "metadata": {
    "papermill": {
     "duration": 0.030982,
     "end_time": "2023-12-15T21:38:12.121628",
     "exception": false,
     "start_time": "2023-12-15T21:38:12.090646",
     "status": "completed"
    },
    "tags": []
   },
   "source": [
    "## XGBoost Best Params"
   ]
  },
  {
   "cell_type": "code",
   "execution_count": null,
   "id": "0427ddf9",
   "metadata": {
    "execution": {
     "iopub.execute_input": "2023-12-15T21:38:12.187853Z",
     "iopub.status.busy": "2023-12-15T21:38:12.186746Z",
     "iopub.status.idle": "2023-12-15T21:38:12.191857Z",
     "shell.execute_reply": "2023-12-15T21:38:12.190969Z"
    },
    "papermill": {
     "duration": 0.039322,
     "end_time": "2023-12-15T21:38:12.193969",
     "exception": false,
     "start_time": "2023-12-15T21:38:12.154647",
     "status": "completed"
    },
    "tags": []
   },
   "outputs": [],
   "source": [
    "#print('Best parameters:', study.best_params)"
   ]
  },
  {
   "cell_type": "code",
   "execution_count": null,
   "id": "58f15ad3",
   "metadata": {
    "execution": {
     "iopub.execute_input": "2023-12-15T21:38:12.259033Z",
     "iopub.status.busy": "2023-12-15T21:38:12.258649Z",
     "iopub.status.idle": "2023-12-15T21:38:12.264934Z",
     "shell.execute_reply": "2023-12-15T21:38:12.263747Z"
    },
    "papermill": {
     "duration": 0.041749,
     "end_time": "2023-12-15T21:38:12.267101",
     "exception": false,
     "start_time": "2023-12-15T21:38:12.225352",
     "status": "completed"
    },
    "tags": []
   },
   "outputs": [],
   "source": [
    "def objective(trial):\n",
    "    \"\"\"\n",
    "    Objective function to be minimized.\n",
    "    \"\"\"\n",
    "    param = {\n",
    "    'n_estimators': trial.suggest_int(\"n_estimators\", 10, 200, log=True),\n",
    "    'max_depth' : trial.suggest_int(\"max_depth\", 2, 32),\n",
    "    'min_samples_split' : trial.suggest_int(\"min_samples_split\", 2, 10),\n",
    "    'min_samples_leaf' : trial.suggest_int(\"min_samples_leaf\", 1, 10)\n",
    "    }\n",
    "    rf =RandomForestClassifier(**param)\n",
    "    rf.fit(X_train, y_train)\n",
    "    preds = rf.predict(X_test)\n",
    "    prob = rf.predict_proba(X_test)\n",
    "    accuracy = accuracy_score(y_test, preds)\n",
    "    return accuracy\n",
    "\n",
    "#study = optuna.create_study(study_name=\"rf\", direction=\"maximize\")\n",
    "#study.optimize(objective, n_trials=100)"
   ]
  },
  {
   "cell_type": "markdown",
   "id": "a24f76bb",
   "metadata": {
    "papermill": {
     "duration": 0.030569,
     "end_time": "2023-12-15T21:38:12.328926",
     "exception": false,
     "start_time": "2023-12-15T21:38:12.298357",
     "status": "completed"
    },
    "tags": []
   },
   "source": [
    "## RF Best Params"
   ]
  },
  {
   "cell_type": "code",
   "execution_count": null,
   "id": "2ffcc196",
   "metadata": {
    "execution": {
     "iopub.execute_input": "2023-12-15T21:38:12.394064Z",
     "iopub.status.busy": "2023-12-15T21:38:12.393676Z",
     "iopub.status.idle": "2023-12-15T21:38:12.398146Z",
     "shell.execute_reply": "2023-12-15T21:38:12.397063Z"
    },
    "papermill": {
     "duration": 0.039288,
     "end_time": "2023-12-15T21:38:12.400071",
     "exception": false,
     "start_time": "2023-12-15T21:38:12.360783",
     "status": "completed"
    },
    "tags": []
   },
   "outputs": [],
   "source": [
    "#print('Best parameters:', study.best_params)"
   ]
  },
  {
   "cell_type": "code",
   "execution_count": null,
   "id": "08970e00",
   "metadata": {
    "execution": {
     "iopub.execute_input": "2023-12-15T21:38:12.464596Z",
     "iopub.status.busy": "2023-12-15T21:38:12.464206Z",
     "iopub.status.idle": "2023-12-15T21:38:12.470361Z",
     "shell.execute_reply": "2023-12-15T21:38:12.469247Z"
    },
    "papermill": {
     "duration": 0.040848,
     "end_time": "2023-12-15T21:38:12.472609",
     "exception": false,
     "start_time": "2023-12-15T21:38:12.431761",
     "status": "completed"
    },
    "tags": []
   },
   "outputs": [],
   "source": [
    "lgbmparams={'lambda_l1': 0.0020794164244632516, 'lambda_l2': 1.3491200862385018e-07, 'num_leaves': 183, 'feature_fraction': 0.5287512060217296, 'bagging_fraction': 0.5201519033007886, 'bagging_freq': 5, 'min_child_samples': 92, 'learning_rate': 0.037798866980162195}\n",
    "xgbparams= {'max_depth': 9, 'learning_rate': 0.01572907926807038, 'n_estimators': 356, 'min_child_weight': 5, 'gamma': 0.49648197867034116, 'subsample': 0.669174163799439, 'colsample_bytree': 0.8676241143729797, 'reg_alpha': 0.00027994040114114353, 'reg_lambda': 1.8113425298795554e-07}\n",
    "rfparams={'n_estimators': 187, 'max_depth': 18, 'min_samples_split': 3, 'min_samples_leaf': 2}"
   ]
  },
  {
   "cell_type": "markdown",
   "id": "384075a8",
   "metadata": {
    "papermill": {
     "duration": 0.031213,
     "end_time": "2023-12-15T21:38:12.535037",
     "exception": false,
     "start_time": "2023-12-15T21:38:12.503824",
     "status": "completed"
    },
    "tags": []
   },
   "source": [
    "# 6. Modeling  <a class=\"anchor\"  id=\"6\"></a>"
   ]
  },
  {
   "cell_type": "markdown",
   "id": "92228588",
   "metadata": {
    "execution": {
     "iopub.execute_input": "2023-12-11T20:44:09.528478Z",
     "iopub.status.busy": "2023-12-11T20:44:09.527946Z",
     "iopub.status.idle": "2023-12-11T20:46:29.112062Z",
     "shell.execute_reply": "2023-12-11T20:46:29.110932Z",
     "shell.execute_reply.started": "2023-12-11T20:44:09.528438Z"
    },
    "papermill": {
     "duration": 0.030792,
     "end_time": "2023-12-15T21:38:12.598188",
     "exception": false,
     "start_time": "2023-12-15T21:38:12.567396",
     "status": "completed"
    },
    "tags": []
   },
   "source": [
    "\n",
    "\n"
   ]
  },
  {
   "cell_type": "code",
   "execution_count": null,
   "id": "525d33c9",
   "metadata": {
    "execution": {
     "iopub.execute_input": "2023-12-15T21:38:12.661294Z",
     "iopub.status.busy": "2023-12-15T21:38:12.660918Z",
     "iopub.status.idle": "2023-12-15T21:38:13.001840Z",
     "shell.execute_reply": "2023-12-15T21:38:13.000562Z"
    },
    "papermill": {
     "duration": 0.375286,
     "end_time": "2023-12-15T21:38:13.004308",
     "exception": false,
     "start_time": "2023-12-15T21:38:12.629022",
     "status": "completed"
    },
    "tags": []
   },
   "outputs": [],
   "source": [
    "from sklearn.dummy import DummyClassifier\n",
    "from sklearn.metrics import mean_squared_error, f1_score, precision_score, recall_score\n",
    "from sklearn.metrics import accuracy_score\n",
    "from sklearn.metrics import cohen_kappa_score\n",
    "from sklearn.metrics import roc_auc_score\n",
    "\n",
    "from sklearn.metrics import roc_auc_score\n",
    "\n",
    "def roc_auc_score_multiclass(actual_class, pred_class, average = \"macro\"):\n",
    "\n",
    "  #creating a set of all the unique classes using the actual class list\n",
    "  unique_class = set(actual_class)\n",
    "  roc_auc_dict = {}\n",
    "  for per_class in unique_class:\n",
    "    #creating a list of all the classes except the current class \n",
    "    other_class = [x for x in unique_class if x != per_class]\n",
    "\n",
    "    #marking the current class as 1 and all other classes as 0\n",
    "    new_actual_class = [0 if x in other_class else 1 for x in actual_class]\n",
    "    new_pred_class = [0 if x in other_class else 1 for x in pred_class]\n",
    "\n",
    "    #using the sklearn metrics method to calculate the roc_auc_score\n",
    "    roc_auc = roc_auc_score(new_actual_class, new_pred_class, average = average)\n",
    "    roc_auc_dict[per_class] = roc_auc\n",
    "\n",
    "  return roc_auc_dict\n",
    "\n",
    "\n",
    "dummy_clf = DummyClassifier(strategy=\"most_frequent\")\n",
    "X=df_final[final_cols\n",
    "    \n",
    "]\n",
    "X.fillna(0, inplace=True) ##fill in missing pass length to 0\n",
    "groups=df_final['displayName']\n",
    "y=df_final['event']\n",
    "\n",
    "X_train, X_test, y_train, y_test = train_test_split(X ,y, stratify=y, test_size=0.25, random_state=0)\n",
    "\n",
    "dummy_clf.fit(X_train, y_train)\n",
    "\n",
    "\n",
    "\n",
    "y_pred =  dummy_clf.predict(X_test)\n",
    "y_proba=dummy_clf.predict_proba(X_test)\n",
    "matrix = confusion_matrix(y_test, y_pred)\n",
    "print(\"Accuracy:\", accuracy_score(y_test, y_pred))\n",
    "\n",
    "print(\"F1:\", f1_score(y_test, y_pred,average='macro'))\n",
    "print(\"Precision:\", precision_score(y_test, y_pred,average='macro'))\n",
    "print(\"Recall:\", recall_score(y_test, y_pred,average='macro'))\n",
    "print(\"Kappa:\", cohen_kappa_score(y_test, y_pred))\n",
    "\n",
    "print(\"AUC: \", roc_auc_score_multiclass(y_test, y_pred))\n",
    "\n",
    "\n",
    "sns.heatmap(matrix, annot=True,  cmap=\"Blues\", fmt=\"g\")\n",
    "plt.xlabel('Predicted'); plt.ylabel('Actual'); plt.title('Confusion Matrix')"
   ]
  },
  {
   "cell_type": "markdown",
   "id": "2feefd8b",
   "metadata": {
    "papermill": {
     "duration": 0.031247,
     "end_time": "2023-12-15T21:38:13.067364",
     "exception": false,
     "start_time": "2023-12-15T21:38:13.036117",
     "status": "completed"
    },
    "tags": []
   },
   "source": [
    "After utilizing libraries for hyperparameter tuning, we arrived at the best paramaters for our LGBM classifier, which is implemented below. "
   ]
  },
  {
   "cell_type": "markdown",
   "id": "c44a2715",
   "metadata": {
    "papermill": {
     "duration": 0.031011,
     "end_time": "2023-12-15T21:38:13.130303",
     "exception": false,
     "start_time": "2023-12-15T21:38:13.099292",
     "status": "completed"
    },
    "tags": []
   },
   "source": [
    "The next part of the notebook focuses on predicting if a tackle/assist was successful based on the conditions of the play, the tackler, and the player being tackled."
   ]
  },
  {
   "cell_type": "markdown",
   "id": "5fafde69",
   "metadata": {
    "papermill": {
     "duration": 0.031382,
     "end_time": "2023-12-15T21:38:13.195429",
     "exception": false,
     "start_time": "2023-12-15T21:38:13.164047",
     "status": "completed"
    },
    "tags": []
   },
   "source": [
    "## Predicting a Successful Tackle"
   ]
  },
  {
   "cell_type": "markdown",
   "id": "766b303c",
   "metadata": {
    "papermill": {
     "duration": 0.031122,
     "end_time": "2023-12-15T21:38:13.257839",
     "exception": false,
     "start_time": "2023-12-15T21:38:13.226717",
     "status": "completed"
    },
    "tags": []
   },
   "source": [
    "We want to ensure that our model isn't overfitting to the training data, so we will implement KFold cross validation to split the data into multiple train-test splits and assess the model's performance each time."
   ]
  },
  {
   "cell_type": "markdown",
   "id": "33b5945a",
   "metadata": {
    "papermill": {
     "duration": 0.031572,
     "end_time": "2023-12-15T21:38:13.320702",
     "exception": false,
     "start_time": "2023-12-15T21:38:13.289130",
     "status": "completed"
    },
    "tags": []
   },
   "source": [
    "We will repeat this process and plot a confusion matrix, which shows the true positives (successful tackles), true negatives (actual missed tackles), false positives (missed tackles that we predict are successful), and false negatives (successful tackles that we predict are misses)."
   ]
  },
  {
   "cell_type": "code",
   "execution_count": null,
   "id": "b0819825",
   "metadata": {
    "_kg_hide-input": true,
    "_kg_hide-output": true,
    "execution": {
     "iopub.execute_input": "2023-12-15T21:38:13.388644Z",
     "iopub.status.busy": "2023-12-15T21:38:13.387918Z",
     "iopub.status.idle": "2023-12-15T21:38:27.107553Z",
     "shell.execute_reply": "2023-12-15T21:38:27.106380Z"
    },
    "papermill": {
     "duration": 13.757288,
     "end_time": "2023-12-15T21:38:27.109996",
     "exception": false,
     "start_time": "2023-12-15T21:38:13.352708",
     "status": "completed"
    },
    "tags": []
   },
   "outputs": [],
   "source": [
    "from sklearn.model_selection import KFold, cross_val_score\n",
    "from sklearn.model_selection import StratifiedKFold\n",
    "from sklearn.metrics import mean_squared_error, f1_score, precision_score, recall_score\n",
    "from sklearn.metrics import accuracy_score\n",
    "from typing import Tuple\n",
    "import seaborn as sns\n",
    "import matplotlib.pyplot as plt\n",
    "from imblearn.under_sampling import TomekLinks\n",
    "\n",
    "from imblearn.over_sampling import RandomOverSampler, SMOTE\n",
    "from imblearn.under_sampling import RandomUnderSampler, NearMiss\n",
    "from imblearn.under_sampling import OneSidedSelection\n",
    "from imblearn.under_sampling import NeighbourhoodCleaningRule\n",
    "\n",
    "model =LGBMClassifier(**lgbmparams)\n",
    "X=df_final[final_cols\n",
    "    \n",
    "]\n",
    "X.fillna(0, inplace=True) ##fill in missing pass length to 0\n",
    "groups=df_final['displayName']\n",
    "y=df_final['event']\n",
    "\n",
    "def cross_val_predict(model, kfold : KFold, X : np.array, y : np.array) -> Tuple[np.array, np.array]:\n",
    "\n",
    "    kfold=StratifiedKFold(n_splits=5,  random_state=None, shuffle=True)\n",
    "    groups=df_final['displayName']\n",
    "    \n",
    "    \n",
    "    \n",
    "    no_classes = len(np.unique(y))\n",
    "    \n",
    "    actual_classes = np.empty([0], dtype=int)\n",
    "    predicted_classes = np.empty([0], dtype=int)\n",
    "    predicted_proba = np.empty([0, no_classes]) \n",
    "\n",
    "    for train_ndx, test_ndx in kfold.split(X, y):\n",
    "\n",
    "        X_train, y_train, X_test, y_test = X[train_ndx], y[train_ndx], X[test_ndx], y[test_ndx]\n",
    "       \n",
    "        \n",
    "        model.fit(\n",
    "            X_train, y_train\n",
    "        )\n",
    "\n",
    "\n",
    "        \n",
    "\n",
    "\n",
    "      \n",
    "        actual_classes = np.append(actual_classes, y_test)\n",
    "        \n",
    "\n",
    "        predicted_classes = np.append(predicted_classes, model.predict(X_test))\n",
    "\n",
    "        try:\n",
    "            predicted_proba = np.append(predicted_proba, model.predict_proba(X_test), axis=0)\n",
    "        except:\n",
    "            predicted_proba = np.append(predicted_proba, np.zeros((len(X_test), no_classes), dtype=float), axis=0)\n",
    "\n",
    "    return actual_classes, predicted_classes, predicted_proba\n",
    "def plot_confusion_matrix(actual_classes : np.array, predicted_classes : np.array, sorted_labels : list):\n",
    "\n",
    "    matrix = confusion_matrix(actual_classes, predicted_classes, labels=sorted_labels)\n",
    "    print(\"Accuracy:\", accuracy_score(actual_classes, predicted_classes))\n",
    "\n",
    "    print(\"F1:\", f1_score(actual_classes, predicted_classes,average='macro'))\n",
    "    print(\"Precision:\", precision_score(actual_classes, predicted_classes,average='macro'))\n",
    "    print(\"Recall:\", recall_score(actual_classes, predicted_classes,average='macro'))\n",
    "    print(\"Kappa:\" , cohen_kappa_score(actual_classes, predicted_classes))\n",
    "    print(\"AUC: \",  roc_auc_score_multiclass(actual_classes, predicted_classes))\n",
    "    plt.figure()\n",
    "    sns.heatmap(matrix, annot=True, xticklabels=sorted_labels, yticklabels=sorted_labels, cmap=\"Blues\", fmt=\"g\")\n",
    "    plt.xlabel('Predicted'); plt.ylabel('Actual'); plt.title('Confusion Matrix')\n",
    "\n",
    "    plt.show()\n",
    "    \n",
    "actual_classes, predicted_classes, _ = cross_val_predict(model, kfold, X.to_numpy(), y.to_numpy())\n",
    "plot_confusion_matrix(actual_classes, predicted_classes, [0,1, 2])"
   ]
  },
  {
   "cell_type": "code",
   "execution_count": null,
   "id": "19dd3d70",
   "metadata": {
    "execution": {
     "iopub.execute_input": "2023-12-15T21:38:27.177492Z",
     "iopub.status.busy": "2023-12-15T21:38:27.176850Z",
     "iopub.status.idle": "2023-12-15T21:39:28.020868Z",
     "shell.execute_reply": "2023-12-15T21:39:28.019930Z"
    },
    "papermill": {
     "duration": 60.88046,
     "end_time": "2023-12-15T21:39:28.023188",
     "exception": false,
     "start_time": "2023-12-15T21:38:27.142728",
     "status": "completed"
    },
    "tags": []
   },
   "outputs": [],
   "source": [
    "model=XGBClassifier(**xgbparams)\n",
    "actual_classes, predicted_classes, _ = cross_val_predict(model, kfold, X.to_numpy(), y.to_numpy())\n",
    "plot_confusion_matrix(actual_classes, predicted_classes, [0,1, 2])"
   ]
  },
  {
   "cell_type": "code",
   "execution_count": null,
   "id": "a8c0716c",
   "metadata": {
    "execution": {
     "iopub.execute_input": "2023-12-15T21:39:28.092861Z",
     "iopub.status.busy": "2023-12-15T21:39:28.092475Z",
     "iopub.status.idle": "2023-12-15T21:40:10.045041Z",
     "shell.execute_reply": "2023-12-15T21:40:10.043978Z"
    },
    "papermill": {
     "duration": 41.990402,
     "end_time": "2023-12-15T21:40:10.047358",
     "exception": false,
     "start_time": "2023-12-15T21:39:28.056956",
     "status": "completed"
    },
    "tags": []
   },
   "outputs": [],
   "source": [
    "model=RandomForestClassifier(**rfparams)\n",
    "actual_classes, predicted_classes, _ = cross_val_predict(model, kfold, X.to_numpy(), y.to_numpy())\n",
    "plot_confusion_matrix(actual_classes, predicted_classes, [0,1, 2])"
   ]
  },
  {
   "cell_type": "code",
   "execution_count": null,
   "id": "e9ac1aa2",
   "metadata": {
    "execution": {
     "iopub.execute_input": "2023-12-15T21:40:10.119612Z",
     "iopub.status.busy": "2023-12-15T21:40:10.118973Z",
     "iopub.status.idle": "2023-12-15T21:40:32.856845Z",
     "shell.execute_reply": "2023-12-15T21:40:32.855754Z"
    },
    "papermill": {
     "duration": 22.776906,
     "end_time": "2023-12-15T21:40:32.859175",
     "exception": false,
     "start_time": "2023-12-15T21:40:10.082269",
     "status": "completed"
    },
    "tags": []
   },
   "outputs": [],
   "source": [
    "X_train, X_test, y_train, y_test = train_test_split(X ,y, stratify=y, test_size=0.25, random_state=0)\n",
    "\n",
    "model1=XGBClassifier(**xgbparams)\n",
    "model1.fit(X_train, y_train)\n",
    "probs1=model1.predict_proba(X)\n",
    "model2=LGBMClassifier(**lgbmparams)\n",
    "model2.fit(X_train, y_train)\n",
    "probs2=model2.predict_proba(X)\n",
    "model3=RandomForestClassifier(**rfparams)\n",
    "model3.fit(X_train, y_train)\n",
    "probs3=model3.predict_proba(X)\n",
    "df_final['prob_tackle1']=probs1[:, 1]\n",
    "df_final['prob_miss1']=probs1[:, 0]\n",
    "df_final['prob_assist1']=probs1[:, 2]\n",
    "\n",
    "df_final['prob_tackle2']=probs2[:, 1]\n",
    "df_final['prob_miss2']=probs2[:, 0]\n",
    "df_final['prob_assist2']=probs2[:, 2]\n",
    "\n",
    "\n",
    "df_final['prob_tackle3']=probs3[:, 1]\n",
    "df_final['prob_miss3']=probs3[:, 0]\n",
    "df_final['prob_assist3']=probs3[:, 2]\n",
    "\n",
    "df_final['prob_tackle']=(df_final['prob_tackle1']+df_final['prob_tackle2']+df_final['prob_tackle3'])/3\n",
    "df_final['prob_miss']=(df_final['prob_miss1']+df_final['prob_miss2']+df_final['prob_miss3'])/3\n",
    "df_final['prob_assist']=(df_final['prob_assist1']+df_final['prob_assist2']+df_final['prob_assist3'])/3\n",
    "df_final['predicted_outcome']=df_final[['prob_tackle', 'prob_miss', 'prob_assist']].values.max(1)\n",
    "df_final['prediction']=np.where(df_final['predicted_outcome']==df_final['prob_tackle'], 1, np.where(df_final['predicted_outcome']==df_final['prob_assist'], 2), 0)\n",
    "\n",
    "df_final[['tackle_assist_success', 'prediction',  'prob_tackle', 'prob_miss', 'prob_assist',\n",
    "                                                          'displayName', \n",
    "    'o_range_tackler', 'prior_speed_tackler', 'tacklerWeight|mean',\n",
    "       'dis_ballcarrier|mean', 'dis_ballcarrier|max',\n",
    "       'prior_speed_ballcarrier', 'o_standard_tackler|mean',\n",
    "       'o_standard_ballcarrier|min', 'dir_range_ballcarrier',\n",
    "       'relative_direction|mean',\n",
    " 'force_tackler|mean', 'relative_o|mean']]"
   ]
  },
  {
   "cell_type": "markdown",
   "id": "01fcaa79",
   "metadata": {
    "papermill": {
     "duration": 0.035214,
     "end_time": "2023-12-15T21:40:32.930243",
     "exception": false,
     "start_time": "2023-12-15T21:40:32.895029",
     "status": "completed"
    },
    "tags": []
   },
   "source": [
    "# 7. Explaining the Model  <a class=\"anchor\"  id=\"7\"></a>"
   ]
  },
  {
   "cell_type": "markdown",
   "id": "bccf1b3e",
   "metadata": {
    "papermill": {
     "duration": 0.035934,
     "end_time": "2023-12-15T21:40:33.001464",
     "exception": false,
     "start_time": "2023-12-15T21:40:32.965530",
     "status": "completed"
    },
    "tags": []
   },
   "source": [
    "Now that we have a model that predicts whether a tackle attempt will be successful with approximately 83% accuracy, we will work to explain the model with shap. "
   ]
  },
  {
   "cell_type": "markdown",
   "id": "ae06000b",
   "metadata": {
    "papermill": {
     "duration": 0.035357,
     "end_time": "2023-12-15T21:40:33.072323",
     "exception": false,
     "start_time": "2023-12-15T21:40:33.036966",
     "status": "completed"
    },
    "tags": []
   },
   "source": [
    "## What influences Raw Tackle Ability?\n",
    "The features displayed below were entered into our predictive model and the 'gain' score tells you how influential the feature is in the model compared to the other features. These are the top 10 features:\n"
   ]
  },
  {
   "cell_type": "code",
   "execution_count": null,
   "id": "3819cc89",
   "metadata": {
    "_kg_hide-input": true,
    "execution": {
     "iopub.execute_input": "2023-12-15T21:40:33.145665Z",
     "iopub.status.busy": "2023-12-15T21:40:33.145243Z",
     "iopub.status.idle": "2023-12-15T21:40:33.174866Z",
     "shell.execute_reply": "2023-12-15T21:40:33.173623Z"
    },
    "papermill": {
     "duration": 0.068593,
     "end_time": "2023-12-15T21:40:33.177109",
     "exception": false,
     "start_time": "2023-12-15T21:40:33.108516",
     "status": "completed"
    },
    "tags": []
   },
   "outputs": [],
   "source": [
    "\n",
    "\n",
    "gain_importance = model.feature_importances_\n",
    "\n",
    "# Display feature importance with feature names\n",
    "feature_names =  final_cols\n",
    " \n",
    "\n",
    "gain_importance_df = pd.DataFrame({'Feature': feature_names, 'Gain': gain_importance})\n",
    "gain_importance_df.sort_values(by='Gain', ascending=False).head(10)\n"
   ]
  },
  {
   "cell_type": "markdown",
   "id": "303211f0",
   "metadata": {
    "papermill": {
     "duration": 0.036513,
     "end_time": "2023-12-15T21:40:33.250456",
     "exception": false,
     "start_time": "2023-12-15T21:40:33.213943",
     "status": "completed"
    },
    "tags": []
   },
   "source": [
    "# 8. Stats by Player <a class=\"anchor\"  id=\"8\"></a>"
   ]
  },
  {
   "cell_type": "markdown",
   "id": "299804ae",
   "metadata": {
    "papermill": {
     "duration": 0.036575,
     "end_time": "2023-12-15T21:40:33.323782",
     "exception": false,
     "start_time": "2023-12-15T21:40:33.287207",
     "status": "completed"
    },
    "tags": []
   },
   "source": [
    "** Notes ** \n",
    "1. Raw tackling ability\n",
    "2. Defensive scheme - scheme alignment, tackle probability (likely relative to offense alignment)\n",
    "3. In play tackle likelihood by player \n",
    "- Data points to consider for 2 above:\n",
    "    - offensive first formation\n",
    "    - offensive formation at time of snap\n",
    "    - defensive first formation\n",
    "    - defensive formation at time of snap\n",
    "- Data points to consider for 1 above:\n",
    "    - stats by play by player (ex. x-range by player by play by position)\n",
    "    - position \n",
    "    - raw athletic score vs. actual on field production\n",
    "    - play speed for tackler\n",
    "    - vision score\n",
    "    - time to correct movement after ball carrier established\n",
    "    - angle of approach"
   ]
  },
  {
   "cell_type": "markdown",
   "id": "44ecb008",
   "metadata": {
    "papermill": {
     "duration": 0.036194,
     "end_time": "2023-12-15T21:40:33.396633",
     "exception": false,
     "start_time": "2023-12-15T21:40:33.360439",
     "status": "completed"
    },
    "tags": []
   },
   "source": [
    "Now we are going to group the raw data by tackler and use the prior model to generate the probability of a player's tackle success. We will generate two unique metrics \"probability of tackle\" which is the natural tackling ability, and the \"tackle_index\" which weights players more heavily if they have played in more games."
   ]
  },
  {
   "cell_type": "code",
   "execution_count": null,
   "id": "51ded0c6",
   "metadata": {
    "execution": {
     "iopub.execute_input": "2023-12-15T21:40:33.471818Z",
     "iopub.status.busy": "2023-12-15T21:40:33.471145Z",
     "iopub.status.idle": "2023-12-15T21:40:33.476532Z",
     "shell.execute_reply": "2023-12-15T21:40:33.475831Z"
    },
    "papermill": {
     "duration": 0.045375,
     "end_time": "2023-12-15T21:40:33.478456",
     "exception": false,
     "start_time": "2023-12-15T21:40:33.433081",
     "status": "completed"
    },
    "tags": []
   },
   "outputs": [],
   "source": [
    "len(df_set)"
   ]
  },
  {
   "cell_type": "code",
   "execution_count": null,
   "id": "41f672f7",
   "metadata": {
    "execution": {
     "iopub.execute_input": "2023-12-15T21:40:33.552393Z",
     "iopub.status.busy": "2023-12-15T21:40:33.551733Z",
     "iopub.status.idle": "2023-12-15T21:40:33.669958Z",
     "shell.execute_reply": "2023-12-15T21:40:33.668782Z"
    },
    "papermill": {
     "duration": 0.158233,
     "end_time": "2023-12-15T21:40:33.672500",
     "exception": false,
     "start_time": "2023-12-15T21:40:33.514267",
     "status": "completed"
    },
    "tags": []
   },
   "outputs": [],
   "source": [
    "X=df_set[final_cols]\n",
    "\n",
    "\n",
    "probs1=model1.predict_proba(X)\n",
    "probs2=model2.predict_proba(X)\n",
    "probs3=model3.predict_proba(X)\n",
    "df_set['prob_tackle1']=probs1[:, 1]\n",
    "df_set['prob_miss1']=probs1[:, 0]\n",
    "df_set['prob_assist1']=probs1[:, 2]\n",
    "\n",
    "df_set['prob_tackle2']=probs2[:, 1]\n",
    "df_set['prob_miss2']=probs2[:, 0]\n",
    "df_set['prob_assist2']=probs2[:, 2]\n",
    "\n",
    "\n",
    "df_set['prob_tackle3']=probs3[:, 1]\n",
    "df_set['prob_miss3']=probs3[:, 0]\n",
    "df_set['prob_assist3']=probs3[:, 2]\n",
    "\n",
    "df_set['RTA_tackle']=(df_final['prob_tackle1']+df_final['prob_tackle2']+df_final['prob_tackle3'])/3\n",
    "df_set['RTA_miss']=(df_final['prob_miss1']+df_final['prob_miss2']+df_final['prob_miss3'])/3\n",
    "df_set['RTA_assist']=(df_final['prob_assist1']+df_final['prob_assist2']+df_final['prob_assist3'])/3\n",
    "\n",
    "\n",
    "\n",
    "df_set['RTA']=(df_set['RTA_tackle'])+(df_set['RTA_assist'])\n"
   ]
  },
  {
   "cell_type": "code",
   "execution_count": null,
   "id": "d61de8cc",
   "metadata": {
    "execution": {
     "iopub.execute_input": "2023-12-15T21:40:33.747732Z",
     "iopub.status.busy": "2023-12-15T21:40:33.747288Z",
     "iopub.status.idle": "2023-12-15T21:40:33.755082Z",
     "shell.execute_reply": "2023-12-15T21:40:33.753980Z"
    },
    "papermill": {
     "duration": 0.048238,
     "end_time": "2023-12-15T21:40:33.757147",
     "exception": false,
     "start_time": "2023-12-15T21:40:33.708909",
     "status": "completed"
    },
    "tags": []
   },
   "outputs": [],
   "source": [
    "df_set['tackle_index']=round((df_set['RTA_tackle']*(df_set['tackle_count']*1)*(df_set['assist_count']*.5))-((1-df_set['RTA'])*(df_set['missedTacklecount']+1)), 2)"
   ]
  },
  {
   "cell_type": "code",
   "execution_count": null,
   "id": "e1163fd6",
   "metadata": {
    "execution": {
     "iopub.execute_input": "2023-12-15T21:40:33.832291Z",
     "iopub.status.busy": "2023-12-15T21:40:33.831893Z",
     "iopub.status.idle": "2023-12-15T21:40:33.860269Z",
     "shell.execute_reply": "2023-12-15T21:40:33.859539Z"
    },
    "papermill": {
     "duration": 0.068082,
     "end_time": "2023-12-15T21:40:33.862313",
     "exception": false,
     "start_time": "2023-12-15T21:40:33.794231",
     "status": "completed"
    },
    "tags": []
   },
   "outputs": [],
   "source": [
    "\n",
    "df_tackler_merge=pd.merge(df_players, df_set[['displayName','gameplayid|nunique', 'tackle_assist_count','missedTacklecount', 'tackle_index', 'RTA']], on='displayName')\n",
    "df_tackler_merge.sort_values(by='tackle_index', ascending=False, inplace=True)\n",
    "df_tackler_merge.reset_index(inplace=True)\n",
    "df_tackler_merge.head(30)"
   ]
  },
  {
   "cell_type": "code",
   "execution_count": null,
   "id": "d9e80aeb",
   "metadata": {
    "execution": {
     "iopub.execute_input": "2023-12-15T21:40:33.937123Z",
     "iopub.status.busy": "2023-12-15T21:40:33.936451Z",
     "iopub.status.idle": "2023-12-15T21:40:33.957162Z",
     "shell.execute_reply": "2023-12-15T21:40:33.956384Z"
    },
    "papermill": {
     "duration": 0.060561,
     "end_time": "2023-12-15T21:40:33.959095",
     "exception": false,
     "start_time": "2023-12-15T21:40:33.898534",
     "status": "completed"
    },
    "tags": []
   },
   "outputs": [],
   "source": [
    "df_tackler_merge[df_tackler_merge['gameplayid|nunique']>1].sort_values(by='RTA', ascending=False).head(20)"
   ]
  },
  {
   "cell_type": "code",
   "execution_count": null,
   "id": "0509502e",
   "metadata": {
    "execution": {
     "iopub.execute_input": "2023-12-15T21:40:34.035056Z",
     "iopub.status.busy": "2023-12-15T21:40:34.034429Z",
     "iopub.status.idle": "2023-12-15T21:40:47.608835Z",
     "shell.execute_reply": "2023-12-15T21:40:47.607846Z"
    },
    "papermill": {
     "duration": 13.61487,
     "end_time": "2023-12-15T21:40:47.610995",
     "exception": false,
     "start_time": "2023-12-15T21:40:33.996125",
     "status": "completed"
    },
    "tags": []
   },
   "outputs": [],
   "source": [
    "#!pip install eli5\n",
    "import eli5 as eli\n",
    "tackler_name='Rashaan Evans'\n",
    "index_id=df_tackler_merge[df_tackler_merge['displayName']==tackler_name].index\n",
    "\n",
    "eli.show_prediction(model, X.iloc[index_id], feature_names = list(X.columns),  show_feature_values=True, target_names=['Missed Tackle', 'Tackle', 'Assist']) \n"
   ]
  },
  {
   "cell_type": "code",
   "execution_count": null,
   "id": "bdda9ea9",
   "metadata": {
    "execution": {
     "iopub.execute_input": "2023-12-15T21:40:47.690623Z",
     "iopub.status.busy": "2023-12-15T21:40:47.689742Z",
     "iopub.status.idle": "2023-12-15T21:43:42.964136Z",
     "shell.execute_reply": "2023-12-15T21:43:42.963105Z"
    },
    "papermill": {
     "duration": 175.366116,
     "end_time": "2023-12-15T21:43:43.015807",
     "exception": false,
     "start_time": "2023-12-15T21:40:47.649691",
     "status": "completed"
    },
    "tags": []
   },
   "outputs": [],
   "source": [
    "import shap\n",
    "shap.initjs()\n",
    "explainer = shap.TreeExplainer(model)\n",
    "shap_values = explainer.shap_values(X)\n",
    "shap.summary_plot(\n",
    "            shap_values, X, class_names=['Missed Tackle', 'Tackle', 'Assist']\n",
    " )\n",
    "\n"
   ]
  },
  {
   "cell_type": "markdown",
   "id": "27117e53",
   "metadata": {
    "papermill": {
     "duration": 0.047794,
     "end_time": "2023-12-15T21:43:43.112930",
     "exception": false,
     "start_time": "2023-12-15T21:43:43.065136",
     "status": "completed"
    },
    "tags": []
   },
   "source": [
    "# 9. NFL Use Cases <a class=\"anchor\"  id=\"9\"></a>"
   ]
  },
  {
   "cell_type": "markdown",
   "id": "9b8d0667",
   "metadata": {
    "papermill": {
     "duration": 0.04703,
     "end_time": "2023-12-15T21:43:43.207193",
     "exception": false,
     "start_time": "2023-12-15T21:43:43.160163",
     "status": "completed"
    },
    "tags": []
   },
   "source": [
    "# How is this useful and innovative?\n",
    "We anticipate several use cases for our predictive model:\n",
    "1. **Drafting new players** - based on tracking stats from prior tackle attempts, coaches and determine if a new player's RTA makes them a good candidate for their team\n",
    "2. **Adding to the PFF Player Grades** - We recommend adding a Tackle Grade in the PFF Player Grade cards. \n",
    "3. **Visualizations for interpretability** - Each player can have a visual like the one below that shows what aspects of their behavior went into their RTA and Tackle Index. In the example below, Rashaan Evans average orientation of 223 increases his RTA, while his orientation range decreases his RTA. \n",
    "4. **Monitoring Player Progress** - If a player's RTA starts to drop, it can mean that they are playing more inconsistently in terms of their tackling outcomes"
   ]
  },
  {
   "cell_type": "markdown",
   "id": "6ee7dcbf",
   "metadata": {
    "papermill": {
     "duration": 0.048594,
     "end_time": "2023-12-15T21:43:43.303846",
     "exception": false,
     "start_time": "2023-12-15T21:43:43.255252",
     "status": "completed"
    },
    "tags": []
   },
   "source": [
    "## RTA = .83 | Tackle Index = 67.92"
   ]
  },
  {
   "cell_type": "markdown",
   "id": "e8d6b3db",
   "metadata": {
    "papermill": {
     "duration": 0.049209,
     "end_time": "2023-12-15T21:43:43.401406",
     "exception": false,
     "start_time": "2023-12-15T21:43:43.352197",
     "status": "completed"
    },
    "tags": []
   },
   "source": [
    "## Tackle Index Calculation\n",
    "The tackle index is relative to other players. It can be negative, zero , or positive depending on the previous tackles and missed tackles that the player has made. On the other hand, RTA always ranges from 0 to 1.\n",
    "\n",
    "# ${RTA \\times Tackle Assist Count} -{[{(1-RTA) \\times Missed Tackle Count}]} $"
   ]
  },
  {
   "cell_type": "markdown",
   "id": "51c6fba6",
   "metadata": {
    "papermill": {
     "duration": 0.047233,
     "end_time": "2023-12-15T21:43:43.496667",
     "exception": false,
     "start_time": "2023-12-15T21:43:43.449434",
     "status": "completed"
    },
    "tags": []
   },
   "source": [
    "# 10. Animations/Gif <a class=\"anchor\"  id=\"10\"></a>"
   ]
  },
  {
   "cell_type": "markdown",
   "id": "b99ef2a9",
   "metadata": {
    "papermill": {
     "duration": 0.047273,
     "end_time": "2023-12-15T21:43:43.591561",
     "exception": false,
     "start_time": "2023-12-15T21:43:43.544288",
     "status": "completed"
    },
    "tags": []
   },
   "source": [
    "Base function courtesy of: https://www.kaggle.com/code/colinlagator/play-animation-create-gifs-in-python"
   ]
  },
  {
   "cell_type": "code",
   "execution_count": null,
   "id": "2efe03f1",
   "metadata": {
    "_kg_hide-input": true,
    "execution": {
     "iopub.execute_input": "2023-12-15T21:43:43.691506Z",
     "iopub.status.busy": "2023-12-15T21:43:43.690316Z",
     "iopub.status.idle": "2023-12-15T21:43:43.745444Z",
     "shell.execute_reply": "2023-12-15T21:43:43.744648Z"
    },
    "papermill": {
     "duration": 0.108614,
     "end_time": "2023-12-15T21:43:43.747705",
     "exception": false,
     "start_time": "2023-12-15T21:43:43.639091",
     "status": "completed"
    },
    "tags": []
   },
   "outputs": [],
   "source": [
    "from PIL import Image, ImageDraw, ImageFont\n",
    "import numpy as np\n",
    "import copy\n",
    "\n",
    "# Color are courtesy of this kaggle post:\n",
    "# https://www.kaggle.com/code/huntingdata11/animated-and-interactive-nfl-plays-in-plotly\n",
    "colors = {\n",
    "    'ARI':\"#97233F\", \n",
    "    'ATL':\"#A71930\", \n",
    "    'BAL':'#241773', \n",
    "    'BUF':\"#00338D\", \n",
    "    'CAR':\"#0085CA\", \n",
    "    'CHI':\"#C83803\", \n",
    "    'CIN':\"#FB4F14\", \n",
    "    'CLE':\"#311D00\", \n",
    "    'DAL':'#003594',\n",
    "    'DEN':\"#FB4F14\", \n",
    "    'DET':\"#0076B6\", \n",
    "    'GB':\"#203731\", \n",
    "    'HOU':\"#03202F\", \n",
    "    'IND':\"#002C5F\", \n",
    "    'JAX':\"#9F792C\", \n",
    "    'KC':\"#E31837\", \n",
    "    'LA':\"#003594\", \n",
    "    'LAC':\"#007FC8\", \n",
    "    'LV':\"#000000\",\n",
    "    'MIA':\"#008E97\", \n",
    "    'MIN':\"#4F2683\", \n",
    "    'NE':\"#002244\", \n",
    "    'NO':\"#D3BC8D\", \n",
    "    'NYG':\"#0B2265\", \n",
    "    'NYJ':\"#125740\", \n",
    "    'PHI':\"#004C54\", \n",
    "    'PIT':\"#FFB612\", \n",
    "    'SEA':\"#69BE28\", \n",
    "    'SF':\"#AA0000\",\n",
    "    'TB':'#D50A0A', \n",
    "    'TEN':\"#4B92DB\", \n",
    "    'WAS':\"#5A1414\", \n",
    "    'football':'#CBB67C'\n",
    "}\n",
    "\n",
    "def get_blank_field():\n",
    "    yardlines = np.arange(100, 1100+1, 100)\n",
    "    yardline_width = 4\n",
    "    \n",
    "    yard_mark = list(np.arange(0, 50, 10)) + [50] + list(reversed(list(np.arange(0, 50, 10))))\n",
    "    font_size=40\n",
    "\n",
    "    # Draw a green rectangle\n",
    "    field = Image.new(\"RGB\", (1200, 533), \"green\")\n",
    "    draw = ImageDraw.Draw(field)\n",
    "    \n",
    "    # Draw the yardlines and the yard marker text\n",
    "    assert yardline_width % 2 == 0\n",
    "    for yl, ym in zip(yardlines, yard_mark):\n",
    "        yl_x = (yl - (yardline_width / 2))\n",
    "        draw.line([(yl_x, 0), (yl_x, 533)], width = yardline_width, fill=\"white\")\n",
    "        \n",
    "        \n",
    "        draw.text((yl-(font_size/2), 533-(font_size+5)), str(ym),  fill = \"black\")\n",
    "    \n",
    "    # Flip the image so the text is right side up\n",
    "    field = field.transpose(1)\n",
    "\n",
    "    return field\n",
    "def draw_play_frame(frame, highlight_ids = []):\n",
    "\n",
    "    field = get_blank_field()\n",
    "    draw = ImageDraw.Draw(field)\n",
    "\n",
    "    p_rad = 6\n",
    "    padding=2\n",
    "    fb_w=8\n",
    "    fb_h=5\n",
    "    \n",
    "    df = copy.deepcopy(frame)\n",
    "    \n",
    "    # Round the player locations to work in the image coordinates\n",
    "    plot_x = df.loc[:, \"x\"].apply(lambda x: round(x, 1) * 10)\n",
    "    df.loc[:, \"plot_x\"] = plot_x\n",
    "    plot_y = df.loc[:, \"y\"].apply(lambda x: round(x, 1) * 10)\n",
    "    df.loc[:, \"plot_y\"] = plot_y\n",
    "        \n",
    "    for row in df.iterrows():\n",
    "        \n",
    "        x = row[1][\"plot_x\"]\n",
    "        y = row[1][\"plot_y\"]\n",
    "        \n",
    "        # Draw a white circle behind any player dots to be highlighted\n",
    "        if row[1][\"nflId\"] in highlight_ids:\n",
    "            draw.ellipse(((x-p_rad)-padding, (y-p_rad)-padding, (x+p_rad)+padding, (y+p_rad)+padding), fill=\"white\")\n",
    "\n",
    "        # Draw the football\n",
    "        if row[1][\"club\"] == \"football\":\n",
    "            draw.ellipse((x-fb_w, y-fb_h, x+fb_w, y+fb_h), fill=colors[row[1][\"club\"]])\n",
    "        # Draw the players with color according to the colors dictionary\n",
    "        else:\n",
    "            draw.ellipse((x-p_rad, y-p_rad, x+p_rad, y+p_rad), fill=colors[row[1][\"club\"]])\n",
    "        \n",
    "    return field\n",
    "\n",
    "def finalize(field, min_x = None, max_x = None):\n",
    "    \"\"\"\n",
    "    Finalizes the image. Does the following\n",
    "    - Flips the image along the x axis\n",
    "    - Optionally crops out empty field according to min_x, max_x\n",
    "    \"\"\"\n",
    "    field = field.transpose(1)\n",
    "    if (min_x is not None) & (max_x is not None):\n",
    "        field = field.crop((min_x, 0, max_x, 533))\n",
    "\n",
    "    return field\n",
    "def create_play_gif(play_player_tracking_df, gif_name, crop=False, highlight_ids=[]):\n",
    "    \"\"\"\n",
    "    Draws the play frame by frame and saves to gif\n",
    "    \n",
    "    Parameters\n",
    "    play_player_tracking_df - A df of player_tracking_data that contains \n",
    "    a unique gameId and a unique playId\n",
    "    gif_name - The name of the gif, minus the .gif extension. This is \n",
    "    added automatically.\n",
    "    crop - Whether or not to crop the gif to only contain the minimum and\n",
    "    maximum x values within the entire play\n",
    "    highlight_ids - The ids of players to draw a white circle behind them in\n",
    "    order to call attention to them.\n",
    "    \n",
    "    \"\"\"\n",
    "    min_x = (round(play_player_tracking_df.x.min(), 1) * 10) - 50\n",
    "    max_x = (round(play_player_tracking_df.x.max(), 1) * 10) + 50\n",
    "    \n",
    "    gif_frames = []\n",
    "    frames = play_player_tracking_df[\"frameId\"].values\n",
    "    for i in frames:\n",
    "        frame = play_player_tracking_df[play_player_tracking_df[\"frameId\"] == i].copy(deep=True)\n",
    "        field = get_blank_field()\n",
    "        \n",
    "        field = draw_play_frame(frame, highlight_ids)\n",
    "            \n",
    "        if crop:\n",
    "            field = finalize(field, min_x = min_x, max_x =  max_x)\n",
    "        else:\n",
    "            field = finalize(field)\n",
    "            \n",
    "        gif_frames.append(field)\n",
    "    frame_one = gif_frames[0]\n",
    "    print(frame_one)\n",
    "    frame_one.save(f\"{gif_name}.gif\", format=\"GIF\", append_images=gif_frames,\n",
    "                save_all=True, duration=100, loop=0)\n",
    "\n",
    "    return gif_name\n",
    "# Display the gif\n",
    "def show_gif(gif_name):\n",
    "    import base64\n",
    "    from IPython import display\n",
    "    \n",
    "    with open(str(gif_name)+\".gif\", 'rb') as fd:\n",
    "        b64 = base64.b64encode(fd.read()).decode('ascii')\n",
    "    return display.HTML(f'<img src=\"data:image/gif;base64,{b64}\" />')"
   ]
  },
  {
   "cell_type": "code",
   "execution_count": null,
   "id": "0bd0ac5c",
   "metadata": {
    "execution": {
     "iopub.execute_input": "2023-12-15T21:43:43.846498Z",
     "iopub.status.busy": "2023-12-15T21:43:43.845705Z",
     "iopub.status.idle": "2023-12-15T21:44:54.363955Z",
     "shell.execute_reply": "2023-12-15T21:44:54.362651Z"
    },
    "papermill": {
     "duration": 70.720653,
     "end_time": "2023-12-15T21:44:54.516104",
     "exception": false,
     "start_time": "2023-12-15T21:43:43.795451",
     "status": "completed"
    },
    "tags": []
   },
   "outputs": [],
   "source": [
    "gameplay='20220908002712'\n",
    "\n",
    "\n",
    "     \n",
    "show_gif(create_play_gif(df_tracking[df_tracking['gameplayid']==gameplay], str(gameplay)+'.gif'))\n",
    "\n",
    "\n"
   ]
  },
  {
   "cell_type": "markdown",
   "id": "7758e31b",
   "metadata": {
    "papermill": {
     "duration": 0.112596,
     "end_time": "2023-12-15T21:44:54.735434",
     "exception": false,
     "start_time": "2023-12-15T21:44:54.622838",
     "status": "completed"
    },
    "tags": []
   },
   "source": [
    "# Data Dictionary\n",
    "## Tackles data\n",
    "- **gameId:** Game identifier, unique (numeric)\n",
    "- **playId:** Play identifier, not unique across games (numeric)\n",
    "- **nflId:** Player identification number, unique across players (numeric)\n",
    "- **tackle:** Indicator for whether the given player made a tackle on the play (binary)\n",
    "- **assist:** Indicator for whether the given player made an assist tackle on the play (binary)\n",
    "- **forcedFumble:** Indicator for whether the given player forced a fumble on the play (binary)\n",
    "- **pff_missedTackle:** Provided by Pro Football Focus (PFF). Indicator for whether the given player missed a tackle on the play (binary)\n",
    "\n",
    "## Tracking data\n",
    "\n",
    "- **gameId:** Game identifier, unique (numeric)\n",
    "- **playId:** Play identifier, not unique across games (numeric)\n",
    "- **nflId:** Player identification number, unique across players. When value is NA, row corresponds to ball. (numeric)\n",
    "- **displayName:** Player name (text)\n",
    "- **frameId:** Frame identifier for each play, starting at 1 (numeric)\n",
    "- **time:** Time stamp of play (time, yyyy-mm-dd, hh:mm:ss)\n",
    "- **jerseyNumber:** Jersey number of player (numeric)\n",
    "- **club:** Team abbrevation of corresponding player (text)\n",
    "- **playDirection:** Direction that the offense is moving (left or right)\n",
    "- **x:** Player position along the long axis of the field, 0 - 120 yards. See Figure 1 below. (numeric)\n",
    "- **y:** Player position along the short axis of the field, 0 - 53.3 yards. See Figure 1 below. (numeric)\n",
    "- **s:** Speed in yards/second (numeric)\n",
    "- **a:** Speed in yards/second^2 (numeric)\n",
    "- **dis:** Distance traveled from prior time point, in yards (numeric)\n",
    "- **o:** Player orientation (deg), 0 - 360 degrees (numeric)\n",
    "- **dir:** Angle of player motion (deg), 0 - 360 degrees (numeric)\n",
    "- **event:** Tagged play details, including moment of ball snap, pass release, pass catch, tackle, etc (text)"
   ]
  },
  {
   "cell_type": "markdown",
   "id": "1fa7ae4b",
   "metadata": {
    "papermill": {
     "duration": 0.112762,
     "end_time": "2023-12-15T21:44:54.960561",
     "exception": false,
     "start_time": "2023-12-15T21:44:54.847799",
     "status": "completed"
    },
    "tags": []
   },
   "source": [
    "# Resources Used"
   ]
  },
  {
   "cell_type": "markdown",
   "id": "973e548d",
   "metadata": {
    "papermill": {
     "duration": 0.108136,
     "end_time": "2023-12-15T21:44:55.181170",
     "exception": false,
     "start_time": "2023-12-15T21:44:55.073034",
     "status": "completed"
    },
    "tags": []
   },
   "source": [
    "\n",
    "- https://francis-press.com/uploads/papers/ndkLZY5nQLH6nilaE0nfMi0dxkAogA90wpqUB2vK.pdf\n",
    "- https://digitalcommons.unl.edu/cgi/viewcontent.cgi?article=1079&context=cbbbpapers\n",
    "- https://www.ncbi.nlm.nih.gov/pmc/articles/PMC9459770/\n",
    "- https://www.frontiersin.org/articles/10.3389/fspor.2021.669845/full\n",
    "- https://entertainment.howstuffworks.com/physics-of-football.htm"
   ]
  },
  {
   "cell_type": "code",
   "execution_count": null,
   "id": "959bdd4c",
   "metadata": {
    "papermill": {
     "duration": 0.114011,
     "end_time": "2023-12-15T21:44:55.408050",
     "exception": false,
     "start_time": "2023-12-15T21:44:55.294039",
     "status": "completed"
    },
    "tags": []
   },
   "outputs": [],
   "source": []
  }
 ],
 "metadata": {
  "kaggle": {
   "accelerator": "none",
   "dataSources": [
    {
     "databundleVersionId": 6654553,
     "sourceId": 60305,
     "sourceType": "competition"
    }
   ],
   "dockerImageVersionId": 30587,
   "isGpuEnabled": false,
   "isInternetEnabled": true,
   "language": "python",
   "sourceType": "notebook"
  },
  "kernelspec": {
   "display_name": "Python 3",
   "language": "python",
   "name": "python3"
  },
  "language_info": {
   "codemirror_mode": {
    "name": "ipython",
    "version": 3
   },
   "file_extension": ".py",
   "mimetype": "text/x-python",
   "name": "python",
   "nbconvert_exporter": "python",
   "pygments_lexer": "ipython3",
   "version": "3.10.9"
  },
  "papermill": {
   "default_parameters": {},
   "duration": 688.285529,
   "end_time": "2023-12-15T21:44:58.445919",
   "environment_variables": {},
   "exception": null,
   "input_path": "__notebook__.ipynb",
   "output_path": "__notebook__.ipynb",
   "parameters": {},
   "start_time": "2023-12-15T21:33:30.160390",
   "version": "2.4.0"
  }
 },
 "nbformat": 4,
 "nbformat_minor": 5
}
